{
 "cells": [
  {
   "cell_type": "code",
   "execution_count": null,
   "id": "0b94c7e5-a4c8-4225-9296-98d03c044ff1",
   "metadata": {},
   "outputs": [],
   "source": [
    "import pandas as pd\n",
    "import seaborn as sns\n",
    "import matplotlib.pyplot as plt\n"
   ]
  },
  {
   "cell_type": "code",
   "execution_count": null,
   "id": "f771daa8-8c52-4786-9aee-d40c6ab97e2b",
   "metadata": {},
   "outputs": [],
   "source": [
    "def afficher_plot(name):\n",
    "    df=pd.read_csv(name,header=None,names=[\"time\"])\n",
    "    sns.displot(data=df,x=\"time\",kde=True)\n",
    "    print(name, df.time.median())\n"
   ]
  },
  {
   "cell_type": "code",
   "execution_count": null,
   "id": "9fba44e5-c289-420c-bbc8-95670f99c4b2",
   "metadata": {},
   "outputs": [],
   "source": [
    "afficher_plot(\"tir_time_heur.csv\")"
   ]
  },
  {
   "cell_type": "code",
   "execution_count": null,
   "id": "149ee072-8625-4e71-ba4a-aa777340ef15",
   "metadata": {},
   "outputs": [],
   "source": [
    "afficher_plot(\"tir_time_heur_indiv.csv\")"
   ]
  },
  {
   "cell_type": "code",
   "execution_count": null,
   "id": "5c320fc1-fcde-4b5a-b73a-8df7414f3b8f",
   "metadata": {},
   "outputs": [],
   "source": [
    "afficher_plot(\"tir_time_heur_scaling.csv\")"
   ]
  },
  {
   "cell_type": "code",
   "execution_count": null,
   "id": "0dced8fc-91bc-4433-b57f-6259c87fc5d7",
   "metadata": {},
   "outputs": [],
   "source": [
    "afficher_plot(\"tir_time_heur_globalscore.csv\")"
   ]
  },
  {
   "cell_type": "code",
   "execution_count": null,
   "id": "8d6d750b-539e-4493-bb62-5bd474ea78ff",
   "metadata": {},
   "outputs": [],
   "source": [
    "afficher_plot(\"tir_time_heur_save.csv\")"
   ]
  }
 ],
 "metadata": {
  "kernelspec": {
   "display_name": "Python 3 (ipykernel)",
   "language": "python",
   "name": "python3"
  },
  "language_info": {
   "codemirror_mode": {
    "name": "ipython",
    "version": 3
   },
   "file_extension": ".py",
   "mimetype": "text/x-python",
   "name": "python",
   "nbconvert_exporter": "python",
   "pygments_lexer": "ipython3",
   "version": "3.10.4"
  }
 },
 "nbformat": 4,
 "nbformat_minor": 5
}
