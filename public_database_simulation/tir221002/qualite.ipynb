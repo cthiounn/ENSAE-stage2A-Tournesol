{
 "cells": [
  {
   "cell_type": "code",
   "execution_count": null,
   "id": "6a44bedc-7256-414f-aee2-d776382d5e75",
   "metadata": {},
   "outputs": [],
   "source": [
    "import pandas as pd\n",
    "import seaborn as sns\n",
    "import numpy as np"
   ]
  },
  {
   "cell_type": "code",
   "execution_count": null,
   "id": "1bbe760e-9493-4ea9-a256-ed4a0a9f4a77",
   "metadata": {},
   "outputs": [],
   "source": [
    "df_pre=pd.read_csv(\"pretir.csv\")\n",
    "df_post=pd.read_csv(\"posttir.csv\")\n",
    "df_postmehestan=pd.read_csv(\"posttir_mehestan.csv\")\n"
   ]
  },
  {
   "cell_type": "code",
   "execution_count": null,
   "id": "3b57bb9a-e097-46c9-beb0-69f0a5b8521e",
   "metadata": {},
   "outputs": [],
   "source": [
    "df=df_postmehestan.dropna()\n",
    "df=df.merge(df_post,how=\"inner\", on=\"uid\", suffixes=(\"_meh\",\"_post\"))\n",
    "df=df.merge(df_pre,how=\"inner\", on=\"uid\", suffixes=(\"_a\",\"_pre\"))\n",
    "df=df[df.tournesol_score_post!=df.tournesol_score]"
   ]
  },
  {
   "cell_type": "code",
   "execution_count": null,
   "id": "91b6d007-7ad8-4c63-a4c5-016ec45be760",
   "metadata": {},
   "outputs": [],
   "source": [
    "df['ecart_abs'] = abs(df.tournesol_score_meh - df.tournesol_score_post)\n",
    "df['ecart'] = df.tournesol_score_meh - df.tournesol_score_post\n",
    "df"
   ]
  },
  {
   "cell_type": "code",
   "execution_count": null,
   "id": "a8b2ea6a-16fa-47a6-8df4-4abf6723d7b6",
   "metadata": {},
   "outputs": [],
   "source": [
    "print(df.ecart.describe())\n",
    "sns.displot(data=df,x=\"ecart\",color=\"orange\")"
   ]
  },
  {
   "cell_type": "code",
   "execution_count": null,
   "id": "54bca3a9-1f4e-4468-a481-cc32933cdba9",
   "metadata": {},
   "outputs": [],
   "source": [
    "df=df.sort_values(by=\"tournesol_score_meh\",ascending=False)\n",
    "df_classement_meh=df[['uid','ecart']].copy()"
   ]
  },
  {
   "cell_type": "code",
   "execution_count": null,
   "id": "f322c195-888e-4eb6-be68-64223754912b",
   "metadata": {},
   "outputs": [],
   "source": [
    "df=df.sort_values(by=\"tournesol_score_post\",ascending=False)\n",
    "df_classement_heur=df[['uid','ecart']].copy()"
   ]
  },
  {
   "cell_type": "code",
   "execution_count": null,
   "id": "91ac05ee-418d-4833-8233-746b272c8edf",
   "metadata": {},
   "outputs": [],
   "source": [
    "np.floor(np.arange(len(df_classement_meh))/50)"
   ]
  },
  {
   "cell_type": "code",
   "execution_count": null,
   "id": "0ae17bfa-20d6-478e-95d2-9ab91254957e",
   "metadata": {},
   "outputs": [],
   "source": [
    "df_classement_meh[\"ranking\"]= np.floor(np.arange(len(df_classement_meh))/200)\n",
    "df_classement_heur[\"ranking\"]= np.floor(np.arange(len(df_classement_meh))/200)"
   ]
  },
  {
   "cell_type": "code",
   "execution_count": null,
   "id": "7fa3874e-63e4-4c18-b695-d3f0eee13252",
   "metadata": {},
   "outputs": [],
   "source": []
  },
  {
   "cell_type": "code",
   "execution_count": null,
   "id": "1f1f5e31-e4d3-49f3-8507-82a9946179a7",
   "metadata": {},
   "outputs": [],
   "source": [
    "df_classement=df_classement_meh.merge(df_classement_heur,how='inner', on=\"uid\", suffixes=(\"_m\",\"_h\"))"
   ]
  },
  {
   "cell_type": "code",
   "execution_count": null,
   "id": "6805c684-93aa-4d9b-bfae-640fd6b077ac",
   "metadata": {},
   "outputs": [],
   "source": [
    "df_classement[\"delta\"]=df_classement.ranking_m-df_classement.ranking_h"
   ]
  },
  {
   "cell_type": "code",
   "execution_count": null,
   "id": "e03c770c-d8db-4692-b8fd-7829d50ef5ff",
   "metadata": {},
   "outputs": [],
   "source": [
    "df_classement"
   ]
  },
  {
   "cell_type": "code",
   "execution_count": null,
   "id": "e4023bce-8f9c-4acb-8dd6-b47d82d6feab",
   "metadata": {},
   "outputs": [],
   "source": [
    "sns.displot(df_classement,x=\"delta\",kde=True)"
   ]
  },
  {
   "cell_type": "code",
   "execution_count": null,
   "id": "b511fc46-c2d0-4635-8dfb-4676e4ef1342",
   "metadata": {},
   "outputs": [],
   "source": [
    "df_bsn=pd.read_csv(\"bsn.csv\")\n",
    "df_bsn=df_bsn.reset_index(drop=True).set_index(\"user_id\")\n",
    "df_gp=df_bsn.groupby(by=\"user_id\").sum()"
   ]
  },
  {
   "cell_type": "code",
   "execution_count": null,
   "id": "2a13cd90-1f6f-4f38-a151-0a412469d912",
   "metadata": {},
   "outputs": [],
   "source": [
    "df= pd.read_csv(\"ajout.csv\")\n",
    "df=pd.DataFrame(df['user_id'].unique(),columns=[\"user_id\"])\n",
    "df=df.merge(df_gp,how = \"inner\", left_on=\"user_id\",right_on=\"user_id\")\n",
    "df"
   ]
  },
  {
   "cell_type": "code",
   "execution_count": null,
   "id": "53b47895-b2c6-429a-8e55-cf028f643ccb",
   "metadata": {},
   "outputs": [],
   "source": [
    "print(df.bsn.describe())\n",
    "sns.displot(df,x=\"bsn\", bins=100,log_scale=(False, True))"
   ]
  },
  {
   "cell_type": "code",
   "execution_count": null,
   "id": "931317d0-27c1-44e3-b50d-74a528971d7d",
   "metadata": {},
   "outputs": [],
   "source": [
    "df_nn=df[df.bsn!=0]\n",
    "sns.displot(df_nn,x=\"bsn\",kde=True)"
   ]
  },
  {
   "cell_type": "code",
   "execution_count": null,
   "id": "4961bdb9-cc3a-48c9-9b97-d9e095f45670",
   "metadata": {},
   "outputs": [],
   "source": [
    "[ a for a in list(df_nn.bsn) if a >0.001]"
   ]
  }
 ],
 "metadata": {
  "kernelspec": {
   "display_name": "Python 3 (ipykernel)",
   "language": "python",
   "name": "python3"
  },
  "language_info": {
   "codemirror_mode": {
    "name": "ipython",
    "version": 3
   },
   "file_extension": ".py",
   "mimetype": "text/x-python",
   "name": "python",
   "nbconvert_exporter": "python",
   "pygments_lexer": "ipython3",
   "version": "3.10.4"
  }
 },
 "nbformat": 4,
 "nbformat_minor": 5
}
