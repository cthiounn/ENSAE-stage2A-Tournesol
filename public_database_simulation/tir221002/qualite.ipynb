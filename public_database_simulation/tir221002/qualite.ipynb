{
 "cells": [
  {
   "cell_type": "code",
   "execution_count": null,
   "id": "6a44bedc-7256-414f-aee2-d776382d5e75",
   "metadata": {},
   "outputs": [],
   "source": [
    "import pandas as pd\n",
    "import seaborn as sns"
   ]
  },
  {
   "cell_type": "code",
   "execution_count": null,
   "id": "1bbe760e-9493-4ea9-a256-ed4a0a9f4a77",
   "metadata": {},
   "outputs": [],
   "source": [
    "df_pre=pd.read_csv(\"pretir.csv\")\n",
    "df_post=pd.read_csv(\"posttir.csv\")\n",
    "df_postmehestan=pd.read_csv(\"posttir_mehestan.csv\")\n"
   ]
  },
  {
   "cell_type": "code",
   "execution_count": null,
   "id": "3b57bb9a-e097-46c9-beb0-69f0a5b8521e",
   "metadata": {},
   "outputs": [],
   "source": [
    "df=df_postmehestan.dropna()\n",
    "df=df.merge(df_post,how=\"inner\", on=\"uid\", suffixes=(\"_meh\",\"_post\"))\n",
    "df=df.merge(df_pre,how=\"inner\", on=\"uid\", suffixes=(\"_a\",\"_pre\"))\n",
    "df=df[df.tournesol_score_post!=df.tournesol_score]"
   ]
  },
  {
   "cell_type": "code",
   "execution_count": null,
   "id": "91b6d007-7ad8-4c63-a4c5-016ec45be760",
   "metadata": {},
   "outputs": [],
   "source": [
    "df['ecart_abs'] = abs(df.tournesol_score_meh - df.tournesol_score_post)\n",
    "df['ecart'] = df.tournesol_score_meh - df.tournesol_score_post\n",
    "df"
   ]
  },
  {
   "cell_type": "code",
   "execution_count": null,
   "id": "a8b2ea6a-16fa-47a6-8df4-4abf6723d7b6",
   "metadata": {},
   "outputs": [],
   "source": [
    "print(df.ecart.describe())\n",
    "sns.displot(data=df,x=\"ecart\")"
   ]
  }
 ],
 "metadata": {
  "kernelspec": {
   "display_name": "Python 3 (ipykernel)",
   "language": "python",
   "name": "python3"
  },
  "language_info": {
   "codemirror_mode": {
    "name": "ipython",
    "version": 3
   },
   "file_extension": ".py",
   "mimetype": "text/x-python",
   "name": "python",
   "nbconvert_exporter": "python",
   "pygments_lexer": "ipython3",
   "version": "3.10.4"
  }
 },
 "nbformat": 4,
 "nbformat_minor": 5
}
