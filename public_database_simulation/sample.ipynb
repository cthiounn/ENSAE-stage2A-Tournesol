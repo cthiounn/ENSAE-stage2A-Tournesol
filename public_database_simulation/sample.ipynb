{
 "cells": [
  {
   "cell_type": "code",
   "execution_count": null,
   "id": "79aa3f3a-d04c-4619-8835-d49f2f10850e",
   "metadata": {},
   "outputs": [],
   "source": [
    "import random\n",
    "\n",
    "\n",
    "\n",
    "samples=[(random.randint(1,2234),*random.sample(range(1,9045),2),random.randint(-10,10)) for _ in range(10000)] \n",
    "with open('sample.txt', 'w') as f:\n",
    "    for i,j,k,l in samples:\n",
    "        print(i,j,k,l)\n",
    "        f.write('{} {} {} {}\\n'.format(i,str(j).zfill(11),str(k).zfill(11),l))"
   ]
  }
 ],
 "metadata": {
  "kernelspec": {
   "display_name": "Python 3 (ipykernel)",
   "language": "python",
   "name": "python3"
  },
  "language_info": {
   "codemirror_mode": {
    "name": "ipython",
    "version": 3
   },
   "file_extension": ".py",
   "mimetype": "text/x-python",
   "name": "python",
   "nbconvert_exporter": "python",
   "pygments_lexer": "ipython3",
   "version": "3.9.12"
  }
 },
 "nbformat": 4,
 "nbformat_minor": 5
}
