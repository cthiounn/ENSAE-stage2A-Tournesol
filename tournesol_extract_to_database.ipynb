{
 "cells": [
  {
   "cell_type": "code",
   "execution_count": null,
   "id": "2925520f-e6fc-40c8-abed-f9c7bbc46ed9",
   "metadata": {},
   "outputs": [],
   "source": [
    "import pandas as pd\n",
    "import numpy as np"
   ]
  },
  {
   "cell_type": "code",
   "execution_count": null,
   "id": "d7de3883-a9e3-4807-b3cc-04a67df3c605",
   "metadata": {},
   "outputs": [],
   "source": [
    "df_original= pd.read_csv(\"https://api.tournesol.app/exports/comparisons/\")"
   ]
  },
  {
   "cell_type": "code",
   "execution_count": null,
   "id": "bf322744-7460-4051-8380-50eb84c1afda",
   "metadata": {},
   "outputs": [],
   "source": [
    "df=df_original.copy()"
   ]
  },
  {
   "cell_type": "code",
   "execution_count": null,
   "id": "8fd8b2b0-df73-4c7e-a775-4057dcbeb6b4",
   "metadata": {},
   "outputs": [],
   "source": [
    "id_user=pd.DataFrame(df[\"public_username\"].unique())\n",
    "id_user=id_user.reset_index()\n",
    "id_user.columns=[\"user_id\",\"public_username\"]"
   ]
  },
  {
   "cell_type": "code",
   "execution_count": null,
   "id": "fa405f0b-d6f2-48cf-9537-4e3b2f50cda5",
   "metadata": {},
   "outputs": [],
   "source": [
    "df=df.merge(id_user,how=\"left\",on=\"public_username\")"
   ]
  },
  {
   "cell_type": "code",
   "execution_count": null,
   "id": "c9ed03fa-fa24-4a84-b145-6d83fc19b855",
   "metadata": {},
   "outputs": [],
   "source": [
    "id_entity_a=pd.DataFrame(df[\"video_a\"].unique())\n",
    "id_entity_b=pd.DataFrame(df[\"video_b\"].unique())\n",
    "id_entity= pd.concat([id_entity_a,id_entity_b],ignore_index=True)\n",
    "id_entity_unique=pd.DataFrame(np.unique(id_entity.values))\n",
    "id_entity_unique=id_entity_unique.reset_index()\n",
    "id_entity_unique.columns=[\"entity_id\",\"video\"]"
   ]
  },
  {
   "cell_type": "code",
   "execution_count": null,
   "id": "2aec2936-c4e8-4811-8d0d-6ac79bf760ce",
   "metadata": {},
   "outputs": [],
   "source": [
    "id_comparison_unique=pd.DataFrame(np.vstack(list({tuple(row) for row in df[[\"public_username\",\"video_a\",\"video_b\"]].values})))\n",
    "id_comparison_unique=id_comparison_unique.reset_index()\n",
    "id_comparison_unique.columns=[\"id_comparison\",\"public_username\",\"video_a\",\"video_b\"]"
   ]
  },
  {
   "cell_type": "code",
   "execution_count": null,
   "id": "9df2a45e-a373-4319-8a66-2d530ac658e2",
   "metadata": {},
   "outputs": [],
   "source": [
    "#merge comparison\n",
    "df=df.merge(id_comparison_unique,how=\"left\",on=[\"public_username\",\"video_a\",\"video_b\"])\n",
    "#merge entity\n",
    "df=df.merge(id_entity_unique,how=\"left\",left_on=\"video_a\",right_on=\"video\")\n",
    "df=df.drop(columns=\"video\")\n",
    "df=df.rename(columns={\"entity_id\":\"entity_id_a\"})\n",
    "df=df.merge(id_entity_unique,how=\"left\",left_on=\"video_b\",right_on=\"video\")\n",
    "df=df.drop(columns=\"video\")\n",
    "df=df.rename(columns={\"entity_id\":\"entity_id_b\"})"
   ]
  },
  {
   "cell_type": "code",
   "execution_count": null,
   "id": "04298b88-aec8-488e-8fae-0cdd5c01c3c5",
   "metadata": {},
   "outputs": [],
   "source": [
    "dfa=df[[\"user_id\",\"entity_id_a\"]]\n",
    "dfa=dfa.rename(columns={\"entity_id_a\":\"entity_id\"})\n",
    "dfb=df[[\"user_id\",\"entity_id_b\"]]\n",
    "dfb=dfb.rename(columns={\"entity_id_b\":\"entity_id\"})\n",
    "contributorrating_id=pd.DataFrame(np.unique(pd.concat([dfa,dfb],ignore_index=True).values,axis=0))\n",
    "contributorrating_id=contributorrating_id.reset_index()\n",
    "contributorrating_id.columns=['contributorrating_id','user_id','entity_id']\n"
   ]
  },
  {
   "cell_type": "code",
   "execution_count": null,
   "id": "c46e7984-674f-4e6e-b78a-74d94265d717",
   "metadata": {},
   "outputs": [],
   "source": [
    "df=df.merge(contributorrating_id,how=\"left\",left_on=[\"user_id\",\"entity_id_a\"],right_on=[\"user_id\",\"entity_id\"])\n",
    "df=df.drop(columns=\"entity_id\")\n",
    "df=df.rename(columns={\"contributorrating_id\":\"contributorrating_id_a\"})\n",
    "df=df.merge(contributorrating_id,how=\"left\",left_on=[\"user_id\",\"entity_id_b\"],right_on=[\"user_id\",\"entity_id\"])\n",
    "df=df.drop(columns=\"entity_id\")\n",
    "df=df.rename(columns={\"contributorrating_id\":\"contributorrating_id_b\"})\n"
   ]
  },
  {
   "cell_type": "code",
   "execution_count": null,
   "id": "d90af882-dac9-442b-9d65-aa88c7cd36d7",
   "metadata": {},
   "outputs": [],
   "source": [
    "# 0 insert tournesol_poll\n",
    "tournesol_poll=pd.DataFrame([(1,\"videos\",\"video\",\"mehestan\",\"true\")], columns=['id', 'name', 'entity_type','algorithm','active'])\n",
    "tournesol_poll\n",
    "# 1 insert user_id with id_user\n",
    "core_user=id_user.copy()\n",
    "core_user[\"username\"]=core_user.public_username.str.replace(\"'\",\"\")\n",
    "core_user=core_user.drop(columns='public_username')\n",
    "core_user.columns=['id', 'username']\n",
    "core_user['password']=\"pbkdf2_sha256$260000$1Lucj6028OmJ3jO06B3TtR$C5MYoadWAuo2y16EvPL82v694FSl4tYYJBLHl+iW2zk=\"\n",
    "core_user['is_superuser']=\"false\"\n",
    "core_user['email']=core_user.apply(lambda x:f\"user{x.id}@tournesol.app\",axis=1)\n",
    "core_user['is_staff']=\"false\"\n",
    "core_user['is_active']=\"true\"\n",
    "core_user['is_demo']=\"false\"\n",
    "core_user['comment_anonymously']=\"false\"\n",
    "core_user['date_joined']=\"2020-05-28 06:06:28+00\"\n",
    "core_user['show_online_presence']=\"false\"\n",
    "core_user['show_my_profile']=\"true\"\n",
    "core_user['gender']=\"Not Specified\"\n",
    "core_user['nationality']=\"Not Specified\"\n",
    "core_user['residence']=\"Not Specified\"\n",
    "core_user['race']=\"Not Specified\"\n",
    "core_user['political_affiliation']=\"Not Specified\"\n",
    "core_user['religion']=\"Not Specified\"\n",
    "core_user['degree_of_political_engagement']=\"Not Specified\"\n",
    "core_user['moral_philosophy']=\"Not Specified\"\n",
    "\n",
    "\n",
    "\n",
    "# 2 insert entity with id_entity_unique\n",
    "\n",
    "tournesol_entity=id_entity_unique.copy()\n",
    "tournesol_entity[\"uid\"]=tournesol_entity.apply(lambda x:  f\"yt:{x.video}\",axis=1)\n",
    "tournesol_entity=tournesol_entity.drop(columns=['video'])\n",
    "tournesol_entity.columns=['id','uid']\n",
    "tournesol_entity['rating_n_ratings']=0 #TBD\n",
    "tournesol_entity['rating_n_contributors']=0 #TBD\n",
    "tournesol_entity['metadata']=\"{}\"\n",
    "tournesol_entity['type']='video'\n",
    "tournesol_entity['metadata_timestamp']=\"2021-04-18 07:34:02.805316+00\"\n",
    "tournesol_entity['last_metadata_request_at']=\"2021-04-18 07:34:02.805316+00\"\n",
    "\n",
    "\n",
    "# 3 insert comparison with id_entity_unique df[user_id \tid_comparison \tentity_id_a \tentity_id_b]\n",
    "\n",
    "tournesol_comparison=df[['user_id','id_comparison','entity_id_a','entity_id_b']]\n",
    "tournesol_comparison=tournesol_comparison.drop_duplicates()\n",
    "tournesol_comparison.columns=['user_id','id','entity_1_id','entity_2_id']\n",
    "tournesol_comparison['poll_id']=1\n",
    "tournesol_comparison['entity_1_2_ids_sorted']=tournesol_comparison.apply(lambda x: f\"{x.entity_1_id}_{x.entity_2_id}\",axis=1)\n",
    "# 4 insert comparisoncriteriascore with df[criteria \tweight \tscore  \tid_comparison}\n",
    "\n",
    "tournesol_comparisoncriteriascore=df[['criteria','weight','score','id_comparison']]\n",
    "tournesol_comparisoncriteriascore=tournesol_comparisoncriteriascore.reset_index()\n",
    "tournesol_comparisoncriteriascore.columns=['id','criteria','weight','score','comparison_id']\n",
    "\n",
    "# 5 insert tournesol_contributorrating from contributorrating_id\n",
    "\n",
    "tournesol_contributorrating=contributorrating_id.copy()\n",
    "tournesol_contributorrating.columns=['id','user_id','entity_id']\n",
    "tournesol_contributorrating['is_public']='true'\n",
    "tournesol_contributorrating['poll_id']=1"
   ]
  },
  {
   "cell_type": "code",
   "execution_count": null,
   "id": "6bd879bf",
   "metadata": {},
   "outputs": [],
   "source": [
    "criteriarank_data_array=\n",
    "[\n",
    "    (1, 100, 'false', 1, 1),\n",
    "    (2, 90, 'true', 2, 1),\n",
    "    (3, 80, 'true', 3, 1),\n",
    "    (4, 70, 'true', 4, 1),\n",
    "    (5, 60, 'true', 5, 1),\n",
    "    (6, 50, 'true', 6, 1),\n",
    "    (7, 40, 'true', 7, 1),\n",
    "    (8, 30, 'true', 8, 1),\n",
    "    (9, 20, 'true', 9, 1),\n",
    "    (10, 10, 'true', 10, 1)\n",
    "]\n",
    "tournesol_criteriarank=pd.DataFrame(criteriarank_data_array, columns=['id','rank','optional','criteria_id','poll_id'])"
   ]
  },
  {
   "cell_type": "code",
   "execution_count": null,
   "id": "518e3e58-7b11-4f13-a327-8780117e62bd",
   "metadata": {},
   "outputs": [],
   "source": [
    "core_user[core_user.username.str.contains(\"Falc\")].username"
   ]
  },
  {
   "cell_type": "code",
   "execution_count": null,
   "id": "c1b4fd8b-aaf4-4321-8618-e19efdc808f9",
   "metadata": {},
   "outputs": [],
   "source": [
    "#https://stackoverflow.com/questions/31071952/generate-sql-statements-from-a-pandas-dataframe\n",
    "def SQL_INSERT_STATEMENT_FROM_DATAFRAME(SOURCE, TARGET):\n",
    "    sql_texts = []\n",
    "    for index, row in SOURCE.iterrows():       \n",
    "        sql_texts.append('INSERT INTO '+TARGET+' ('+ str(', '.join(SOURCE.columns))+ ') VALUES '+ str(tuple(row.values)))        \n",
    "    return sql_texts"
   ]
  },
  {
   "cell_type": "code",
   "execution_count": null,
   "id": "b32ec716-19e4-468b-a3e9-be6f3a7d4449",
   "metadata": {},
   "outputs": [],
   "source": [
    "sql_commands=list()\n",
    "sql_commands.extend(SQL_INSERT_STATEMENT_FROM_DATAFRAME(tournesol_poll,\"public.tournesol_poll\"))\n",
    "sql_commands.extend(SQL_INSERT_STATEMENT_FROM_DATAFRAME(core_user,\"public.core_user\"))\n",
    "sql_commands.extend(SQL_INSERT_STATEMENT_FROM_DATAFRAME(tournesol_entity,\"public.tournesol_entity\"))\n",
    "sql_commands.extend(SQL_INSERT_STATEMENT_FROM_DATAFRAME(tournesol_comparison,\"public.tournesol_comparison\"))\n",
    "sql_commands.extend(SQL_INSERT_STATEMENT_FROM_DATAFRAME(tournesol_comparisoncriteriascore,\"public.tournesol_comparisoncriteriascore\"))\n",
    "sql_commands.extend(SQL_INSERT_STATEMENT_FROM_DATAFRAME(tournesol_contributorrating,\"public.tournesol_contributorrating\"))\n",
    "sql_commands.extend(SQL_INSERT_STATEMENT_FROM_DATAFRAME(tournesol_criteriarank,\"public.tournesol_criteriarank\"))\n",
    "\n"
   ]
  },
  {
   "cell_type": "code",
   "execution_count": null,
   "id": "192651d9-6404-4952-b20a-5b5827a73f2d",
   "metadata": {},
   "outputs": [],
   "source": [
    "df2=pd.DataFrame(sql_commands)"
   ]
  },
  {
   "cell_type": "code",
   "execution_count": null,
   "id": "6d5cff2e-d675-4871-b16e-2d8faa901171",
   "metadata": {},
   "outputs": [],
   "source": [
    "df2.to_csv(\"my_csv.sql\",sep=\";\")"
   ]
  },
  {
   "cell_type": "code",
   "execution_count": null,
   "id": "4b81eee3-e78f-4744-b9a2-31d6ce5a9a40",
   "metadata": {},
   "outputs": [],
   "source": [
    "# https://www.geeksforgeeks.org/how-to-insert-a-pandas-dataframe-to-an-existing-postgresql-table/\n",
    "\n",
    "import psycopg2\n",
    "import psycopg2.extras as extras\n",
    "\n",
    "\n",
    "def execute_values(conn, df, table):\n",
    "\n",
    "\ttuples = [tuple(x) for x in df.to_numpy()]\n",
    "\n",
    "\tcols = ','.join(list(df.columns))\n",
    "\t# SQL query to execute\n",
    "\tquery = \"INSERT INTO %s(%s) VALUES %%s\" % (table, cols)\n",
    "\tcursor = conn.cursor()\n",
    "\ttry:\n",
    "\t\textras.execute_values(cursor, query, tuples)\n",
    "\t\tconn.commit()\n",
    "\texcept (Exception, psycopg2.DatabaseError) as error:\n",
    "\t\tprint(\"Error: %s\" % error)\n",
    "\t\tconn.rollback()\n",
    "\t\tcursor.close()\n",
    "\t\treturn 1\n",
    "\tprint(\"the dataframe is inserted\")\n",
    "\tcursor.close()\n",
    "\n",
    "\n",
    "def truncate_cascade(conn, tablename):\n",
    "    curs = conn.cursor()\n",
    "\ttry:\n",
    "\t\tcurs.execute(\"TRUNCATE TABLE %s CASCADE\" % tablename)\n",
    "        curs.close()\n",
    "        conn.commit()\n",
    "\texcept (Exception, psycopg2.DatabaseError) as error:\n",
    "\t\tprint(\"Error: %s\" % error)\n",
    "\t\tconn.rollback()\n",
    "\t\tcursor.close()\n",
    "\t\treturn 1\n"
   ]
  },
  {
   "cell_type": "code",
   "execution_count": null,
   "id": "092da468",
   "metadata": {},
   "outputs": [],
   "source": [
    "conn = psycopg2.connect(\n",
    "\tdatabase=\"tournesol\", user='tournesol', password='password', host='127.0.0.1', port='5432'\n",
    ")\n",
    "\n",
    "\n"
   ]
  },
  {
   "cell_type": "code",
   "execution_count": null,
   "id": "eb38c2aa",
   "metadata": {},
   "outputs": [],
   "source": [
    "truncate_cascade(conn,\"public.core_user\")\n",
    "truncate_cascade(conn,\"public.tournesol_poll\")\n",
    "truncate_cascade(conn,\"public.tournesol_entity\")"
   ]
  },
  {
   "cell_type": "code",
   "execution_count": null,
   "id": "f0b71a39",
   "metadata": {},
   "outputs": [],
   "source": [
    "execute_values(conn, tournesol_poll, 'public.tournesol_poll')\n",
    "execute_values(conn,core_user,\"public.core_user\")\n",
    "execute_values(conn,tournesol_entity,\"public.tournesol_entity\")\n",
    "execute_values(conn,tournesol_comparison,\"public.tournesol_comparison\")\n",
    "execute_values(conn,tournesol_comparisoncriteriascore,\"public.tournesol_comparisoncriteriascore\")\n",
    "execute_values(conn,tournesol_contributorrating,\"public.tournesol_contributorrating\")\n",
    "execute_values(conn,tournesol_criteriarank,\"public.tournesol_criteriarank\")"
   ]
  }
 ],
 "metadata": {
  "interpreter": {
   "hash": "916dbcbb3f70747c44a77c7bcd40155683ae19c65e1c03b4aa3499c5328201f1"
  },
  "kernelspec": {
   "display_name": "Python 3.10.4 64-bit",
   "language": "python",
   "name": "python3"
  },
  "language_info": {
   "codemirror_mode": {
    "name": "ipython",
    "version": 3
   },
   "file_extension": ".py",
   "mimetype": "text/x-python",
   "name": "python",
   "nbconvert_exporter": "python",
   "pygments_lexer": "ipython3",
   "version": "3.10.4"
  }
 },
 "nbformat": 4,
 "nbformat_minor": 5
}
