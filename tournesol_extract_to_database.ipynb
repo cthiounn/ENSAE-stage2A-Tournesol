{
 "cells": [
  {
   "cell_type": "code",
   "execution_count": null,
   "id": "2925520f-e6fc-40c8-abed-f9c7bbc46ed9",
   "metadata": {},
   "outputs": [],
   "source": [
    "import pandas as pd\n",
    "import numpy as np"
   ]
  },
  {
   "cell_type": "code",
   "execution_count": null,
   "id": "d7de3883-a9e3-4807-b3cc-04a67df3c605",
   "metadata": {},
   "outputs": [],
   "source": [
    "df_original= pd.read_csv(\"https://api.tournesol.app/exports/comparisons/\")"
   ]
  },
  {
   "cell_type": "code",
   "execution_count": null,
   "id": "bf322744-7460-4051-8380-50eb84c1afda",
   "metadata": {},
   "outputs": [],
   "source": [
    "df=df_original.copy()"
   ]
  },
  {
   "cell_type": "code",
   "execution_count": null,
   "id": "8fd8b2b0-df73-4c7e-a775-4057dcbeb6b4",
   "metadata": {},
   "outputs": [],
   "source": [
    "id_user=pd.DataFrame(df[\"public_username\"].unique())"
   ]
  },
  {
   "cell_type": "code",
   "execution_count": null,
   "id": "e94fbfc5-c33b-4597-9506-6ae4940f4086",
   "metadata": {},
   "outputs": [],
   "source": [
    "id_user=id_user.reset_index()"
   ]
  },
  {
   "cell_type": "code",
   "execution_count": null,
   "id": "509079a5-d18e-4af8-b1b1-153b8b6cdfbc",
   "metadata": {},
   "outputs": [],
   "source": [
    "id_user.columns=[\"user_id\",\"public_username\"]"
   ]
  },
  {
   "cell_type": "code",
   "execution_count": null,
   "id": "fa405f0b-d6f2-48cf-9537-4e3b2f50cda5",
   "metadata": {},
   "outputs": [],
   "source": [
    "df=df.merge(id_user,how=\"left\",on=\"public_username\")"
   ]
  },
  {
   "cell_type": "code",
   "execution_count": null,
   "id": "900d5186-2cb6-4adc-b70e-a679b9b8f10d",
   "metadata": {},
   "outputs": [],
   "source": [
    "df"
   ]
  },
  {
   "cell_type": "code",
   "execution_count": null,
   "id": "c9ed03fa-fa24-4a84-b145-6d83fc19b855",
   "metadata": {},
   "outputs": [],
   "source": [
    "id_entity_a=pd.DataFrame(df[\"video_a\"].unique())\n",
    "id_entity_b=pd.DataFrame(df[\"video_b\"].unique())\n",
    "\n",
    "id_entity= pd.concat([id_entity_a,id_entity_b],ignore_index=True)"
   ]
  },
  {
   "cell_type": "code",
   "execution_count": null,
   "id": "c14f15db-eeea-40ed-9649-0a28100177be",
   "metadata": {},
   "outputs": [],
   "source": [
    "id_entity_unique=pd.DataFrame(np.unique(id_entity.values))\n",
    "id_entity_unique=id_entity_unique.reset_index()\n",
    "id_entity_unique.columns=[\"entity_id\",\"video\"]"
   ]
  },
  {
   "cell_type": "code",
   "execution_count": null,
   "id": "2aec2936-c4e8-4811-8d0d-6ac79bf760ce",
   "metadata": {},
   "outputs": [],
   "source": [
    "id_comparison_unique=pd.DataFrame(np.vstack(list({tuple(row) for row in df[[\"public_username\",\"video_a\",\"video_b\"]].values})))\n",
    "id_comparison_unique=id_comparison_unique.reset_index()\n",
    "id_comparison_unique.columns=[\"id_comparison\",\"public_username\",\"video_a\",\"video_b\"]"
   ]
  },
  {
   "cell_type": "code",
   "execution_count": null,
   "id": "9df2a45e-a373-4319-8a66-2d530ac658e2",
   "metadata": {},
   "outputs": [],
   "source": [
    "df=df.merge(id_comparison_unique,how=\"left\",on=[\"public_username\",\"video_a\",\"video_b\"])"
   ]
  },
  {
   "cell_type": "code",
   "execution_count": null,
   "id": "b16c9780-00a8-4b00-9cc9-947f60ca3ae7",
   "metadata": {},
   "outputs": [],
   "source": [
    "df"
   ]
  },
  {
   "cell_type": "code",
   "execution_count": null,
   "id": "3dbd9dd2-af29-4a91-95e3-56fea2c1d09e",
   "metadata": {},
   "outputs": [],
   "source": [
    "df=df.merge(id_entity_unique,how=\"left\",left_on=\"video_a\",right_on=\"video\")\n",
    "df=df.drop(columns=\"video\")\n",
    "df=df.rename(columns={\"entity_id\":\"entity_id_a\"})"
   ]
  },
  {
   "cell_type": "code",
   "execution_count": null,
   "id": "35c13c77-b453-4340-8bab-26020c185432",
   "metadata": {},
   "outputs": [],
   "source": [
    "df=df.merge(id_entity_unique,how=\"left\",left_on=\"video_b\",right_on=\"video\")\n",
    "df=df.drop(columns=\"video\")\n",
    "df=df.rename(columns={\"entity_id\":\"entity_id_b\"})"
   ]
  },
  {
   "cell_type": "code",
   "execution_count": null,
   "id": "b649c737-0ce6-4549-9271-7d0801643f99",
   "metadata": {},
   "outputs": [],
   "source": [
    "df"
   ]
  },
  {
   "cell_type": "code",
   "execution_count": null,
   "id": "04298b88-aec8-488e-8fae-0cdd5c01c3c5",
   "metadata": {},
   "outputs": [],
   "source": [
    "dfa=df[[\"user_id\",\"entity_id_a\"]]\n",
    "dfa=dfa.rename(columns={\"entity_id_a\":\"entity_id\"})\n",
    "dfb=df[[\"user_id\",\"entity_id_b\"]]\n",
    "dfb=dfb.rename(columns={\"entity_id_b\":\"entity_id\"})\n",
    "contributorrating_id=pd.DataFrame(np.unique(pd.concat([dfa,dfb],ignore_index=True).values,axis=0))\n",
    "contributorrating_id=contributorrating_id.reset_index()\n",
    "contributorrating_id.columns=['contributorrating_id','user_id','entity_id']\n",
    "contributorrating_id"
   ]
  },
  {
   "cell_type": "code",
   "execution_count": null,
   "id": "c46e7984-674f-4e6e-b78a-74d94265d717",
   "metadata": {},
   "outputs": [],
   "source": [
    "df=df.merge(contributorrating_id,how=\"left\",left_on=[\"user_id\",\"entity_id_a\"],right_on=[\"user_id\",\"entity_id\"])\n",
    "df=df.drop(columns=\"entity_id\")\n",
    "df=df.rename(columns={\"contributorrating_id\":\"contributorrating_id_a\"})\n",
    "df=df.merge(contributorrating_id,how=\"left\",left_on=[\"user_id\",\"entity_id_b\"],right_on=[\"user_id\",\"entity_id\"])\n",
    "df=df.drop(columns=\"entity_id\")\n",
    "df=df.rename(columns={\"contributorrating_id\":\"contributorrating_id_b\"})\n",
    "df"
   ]
  },
  {
   "cell_type": "code",
   "execution_count": null,
   "id": "d90af882-dac9-442b-9d65-aa88c7cd36d7",
   "metadata": {},
   "outputs": [],
   "source": [
    "# 0 insert tournesol_poll\n",
    "tournesol_poll=pd.DataFrame([(1,\"videos\",\"video\",\"mehestan\",\"true\")], columns=['id', 'name', 'entity_type','algorithm','active'])\n",
    "tournesol_poll\n",
    "# 1 insert user_id with id_user\n",
    "core_user=id_user.copy()\n",
    "core_user[\"username\"]=core_user.public_username.str.replace(\"'\",\"\")\n",
    "core_user=core_user.drop(columns='public_username')\n",
    "core_user.columns=['id', 'username']\n",
    "core_user['password']=\"pbkdf2_sha256$260000$1Lucj6028OmJ3jO06B3TtR$C5MYoadWAuo2y16EvPL82v694FSl4tYYJBLHl+iW2zk=\"\n",
    "core_user['is_superuser']=\"false\"\n",
    "core_user['email']=core_user.apply(lambda x:f\"user{x.id}@tournesol.app\",axis=1)\n",
    "core_user['is_staff']=\"false\"\n",
    "core_user['is_active']=\"true\"\n",
    "core_user['is_demo']=\"false\"\n",
    "core_user['comment_anonymously']=\"false\"\n",
    "core_user['date_joined']=\"2020-05-28 06:06:28+00\"\n",
    "core_user['show_online_presence']=\"false\"\n",
    "core_user['show_my_profile']=\"true\"\n",
    "core_user['gender']=\"Not Specified\"\n",
    "core_user['nationality']=\"Not Specified\"\n",
    "core_user['residence']=\"Not Specified\"\n",
    "core_user['race']=\"Not Specified\"\n",
    "core_user['political_affiliation']=\"Not Specified\"\n",
    "core_user['religion']=\"Not Specified\"\n",
    "core_user['degree_of_political_engagement']=\"Not Specified\"\n",
    "core_user['moral_philosophy']=\"Not Specified\"\n",
    "\n",
    "\n",
    "\n",
    "# 2 insert entity with id_entity_unique\n",
    "\n",
    "tournesol_entity=id_entity_unique.copy()\n",
    "tournesol_entity[\"uid\"]=tournesol_entity.apply(lambda x:  f\"yt:{x.video}\",axis=1)\n",
    "tournesol_entity=tournesol_entity.drop(columns=['video'])\n",
    "tournesol_entity.columns=['id','uid']\n",
    "tournesol_entity['rating_n_ratings']=0 #TBD\n",
    "tournesol_entity['rating_n_contributors']=0 #TBD\n",
    "tournesol_entity['metadata']=\"{}\"\n",
    "tournesol_entity['type']='video'\n",
    "tournesol_entity['metadata_timestamp']=\"2021-04-18 07:34:02.805316+00\"\n",
    "tournesol_entity['last_metadata_request_at']=\"2021-04-18 07:34:02.805316+00\"\n",
    "\n",
    "\n",
    "# 3 insert comparison with id_entity_unique df[user_id \tid_comparison \tentity_id_a \tentity_id_b]\n",
    "\n",
    "tournesol_comparison=df[['user_id','id_comparison','entity_id_a','entity_id_b']]\n",
    "tournesol_comparison=tournesol_comparison.drop_duplicates()\n",
    "tournesol_comparison.columns=['user_id','id','entity_1_id','entity_2_id']\n",
    "tournesol_comparison['poll_id']=1\n",
    "tournesol_comparison['entity_1_2_ids_sorted']=tournesol_comparison.apply(lambda x: f\"{x.entity_1_id}_{x.entity_2_id}\",axis=1)\n",
    "# 4 insert comparisoncriteriascore with df[criteria \tweight \tscore  \tid_comparison}\n",
    "\n",
    "tournesol_comparisoncriteriascore=df[['criteria','weight','score','id_comparison']]\n",
    "tournesol_comparisoncriteriascore=tournesol_comparisoncriteriascore.reset_index()\n",
    "tournesol_comparisoncriteriascore.columns=['id','criteria','weight','score','comparison_id']\n",
    "\n",
    "# 5 insert tournesol_contributorrating from contributorrating_id\n",
    "\n",
    "tournesol_contributorrating=contributorrating_id.copy()\n",
    "tournesol_contributorrating.columns=['id','user_id','entity_id']\n",
    "tournesol_contributorrating['is_public']='true'\n",
    "tournesol_contributorrating['poll_id']=1"
   ]
  },
  {
   "cell_type": "code",
   "execution_count": null,
   "id": "518e3e58-7b11-4f13-a327-8780117e62bd",
   "metadata": {},
   "outputs": [],
   "source": [
    "core_user[core_user.username.str.contains(\"Falc\")].username"
   ]
  },
  {
   "cell_type": "code",
   "execution_count": null,
   "id": "c1b4fd8b-aaf4-4321-8618-e19efdc808f9",
   "metadata": {},
   "outputs": [],
   "source": [
    "#https://stackoverflow.com/questions/31071952/generate-sql-statements-from-a-pandas-dataframe\n",
    "def SQL_INSERT_STATEMENT_FROM_DATAFRAME(SOURCE, TARGET):\n",
    "    sql_texts = []\n",
    "    for index, row in SOURCE.iterrows():       \n",
    "        sql_texts.append('INSERT INTO '+TARGET+' ('+ str(', '.join(SOURCE.columns))+ ') VALUES '+ str(tuple(row.values)))        \n",
    "    return sql_texts"
   ]
  },
  {
   "cell_type": "code",
   "execution_count": null,
   "id": "b32ec716-19e4-468b-a3e9-be6f3a7d4449",
   "metadata": {},
   "outputs": [],
   "source": [
    "sql_commands=list()\n",
    "sql_commands.extend(SQL_INSERT_STATEMENT_FROM_DATAFRAME(tournesol_poll,\"public.tournesol_poll\"))\n",
    "sql_commands.extend(SQL_INSERT_STATEMENT_FROM_DATAFRAME(core_user,\"public.core_user\"))\n",
    "sql_commands.extend(SQL_INSERT_STATEMENT_FROM_DATAFRAME(tournesol_entity,\"public.tournesol_entity\"))\n",
    "sql_commands.extend(SQL_INSERT_STATEMENT_FROM_DATAFRAME(tournesol_comparison,\"public.tournesol_comparison\"))\n",
    "sql_commands.extend(SQL_INSERT_STATEMENT_FROM_DATAFRAME(tournesol_comparisoncriteriascore,\"public.tournesol_comparisoncriteriascore\"))\n",
    "sql_commands.extend(SQL_INSERT_STATEMENT_FROM_DATAFRAME(tournesol_contributorrating,\"public.tournesol_contributorrating\"))\n",
    "\n"
   ]
  },
  {
   "cell_type": "code",
   "execution_count": null,
   "id": "192651d9-6404-4952-b20a-5b5827a73f2d",
   "metadata": {},
   "outputs": [],
   "source": [
    "df2=pd.DataFrame(sql_commands)"
   ]
  },
  {
   "cell_type": "code",
   "execution_count": null,
   "id": "6d5cff2e-d675-4871-b16e-2d8faa901171",
   "metadata": {},
   "outputs": [],
   "source": [
    "df2.to_csv(\"my_csv.sql\",sep=\";\")"
   ]
  },
  {
   "cell_type": "code",
   "execution_count": null,
   "id": "4395c8ee-b611-4b23-a4b7-8c5cace5c9e5",
   "metadata": {},
   "outputs": [],
   "source": []
  }
 ],
 "metadata": {
  "kernelspec": {
   "display_name": "Python 3 (ipykernel)",
   "language": "python",
   "name": "python3"
  },
  "language_info": {
   "codemirror_mode": {
    "name": "ipython",
    "version": 3
   },
   "file_extension": ".py",
   "mimetype": "text/x-python",
   "name": "python",
   "nbconvert_exporter": "python",
   "pygments_lexer": "ipython3",
   "version": "3.9.12"
  }
 },
 "nbformat": 4,
 "nbformat_minor": 5
}
