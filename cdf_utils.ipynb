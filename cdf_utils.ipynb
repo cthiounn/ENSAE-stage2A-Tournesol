{
 "cells": [
  {
   "cell_type": "code",
   "execution_count": null,
   "id": "e0326d04-72ec-4d9d-bacc-5d998a27711f",
   "metadata": {},
   "outputs": [],
   "source": [
    "import random\n",
    "import seaborn as sns"
   ]
  },
  {
   "cell_type": "code",
   "execution_count": null,
   "id": "d83224b8-d3ae-4f3b-86d7-f6a65a575673",
   "metadata": {},
   "outputs": [],
   "source": [
    "l=[random.randint(-10,10) for _ in range(100000)]\n"
   ]
  },
  {
   "cell_type": "code",
   "execution_count": null,
   "id": "0fbaa360-e64d-43fb-bb01-dfd65f7e5274",
   "metadata": {},
   "outputs": [],
   "source": [
    "sns.histplot(l)"
   ]
  },
  {
   "cell_type": "code",
   "execution_count": null,
   "id": "e18f7142-ffe1-4b27-b1af-9fcd9d6d0a44",
   "metadata": {},
   "outputs": [],
   "source": [
    "import scipy.stats as ss\n",
    "import numpy as np\n",
    "import matplotlib.pyplot as plt\n",
    "\n",
    "x = np.arange(-10, 11)\n",
    "xU, xL = x + 0.5, x - 0.5 \n",
    "prob = ss.norm.cdf(xU, scale = 3) - ss.norm.cdf(xL, scale = 3)\n",
    "prob = prob / prob.sum() # normalize the probabilities so their sum is 1\n",
    "nums = np.random.choice(x, size = 10000, p = prob)\n",
    "plt.hist(nums, bins = len(x))"
   ]
  },
  {
   "cell_type": "code",
   "execution_count": null,
   "id": "c026fc21-6540-4cff-af76-98d96b93b0fa",
   "metadata": {},
   "outputs": [],
   "source": [
    "import numpy as np\n",
    "from scipy.stats import truncnorm\n",
    "import matplotlib.pyplot as plt\n",
    "\n",
    "scale = 3.\n",
    "range = 10\n",
    "size = 100000\n",
    "\n",
    "X = truncnorm(a=-range/scale, b=+range/scale, scale=scale).rvs(size=size)\n",
    "X = X.round().astype(int)"
   ]
  }
 ],
 "metadata": {
  "kernelspec": {
   "display_name": "Python 3 (ipykernel)",
   "language": "python",
   "name": "python3"
  },
  "language_info": {
   "codemirror_mode": {
    "name": "ipython",
    "version": 3
   },
   "file_extension": ".py",
   "mimetype": "text/x-python",
   "name": "python",
   "nbconvert_exporter": "python",
   "pygments_lexer": "ipython3",
   "version": "3.9.12"
  }
 },
 "nbformat": 4,
 "nbformat_minor": 5
}
