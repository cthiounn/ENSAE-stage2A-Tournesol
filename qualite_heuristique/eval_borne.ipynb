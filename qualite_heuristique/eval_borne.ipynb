{
 "cells": [
  {
   "cell_type": "code",
   "execution_count": null,
   "id": "ecb26ba5-78bf-427c-90f5-e5be9c204b8d",
   "metadata": {},
   "outputs": [],
   "source": [
    "import numpy as np\n",
    "R_MAX=10\n",
    "ALPHA=0.01\n",
    "\n",
    "def calculate(a,b,c,d,al):\n",
    "    L1=-a*b\n",
    "    L3=-c*d\n",
    "    L2=-L1-L3\n",
    "    K1=al+b\n",
    "    K2=K1+d\n",
    "    \n",
    "    theta=L1/(al+2*b)\n",
    "    \n",
    "    thetah=(L2+theta*b)/K2\n",
    "    \n",
    "    thetah3=(L3-theta*d)/K1\n",
    "    \n",
    "    A=(L1+thetah*b)/K1\n",
    "    B=(L2+theta*b+thetah3*d)/K2\n",
    "    C=(L3+thetah*d)/K1\n",
    "    print(L2+theta*b+thetah3*d,b,d,theta,thetah3)\n",
    "    print(A,B,C,A+B+C)\n",
    "    return A+B+C\n",
    "\n",
    "\n",
    "di=dict()\n",
    "n1=range(-10,11)\n",
    "for i in n1:\n",
    "    r_tilde = i / (1.0 + R_MAX)\n",
    "    r_tilde2 = r_tilde ** 2\n",
    "    l1 = -1.0 * r_tilde / np.sqrt(1.0 - r_tilde2)  # noqa: E741\n",
    "    k1 = (1.0 - r_tilde2) ** 3\n",
    "    for j in n1:\n",
    "        r_tilde = j / (1.0 + R_MAX)\n",
    "        r_tilde2 = r_tilde ** 2\n",
    "        l2 = -1.0 * r_tilde / np.sqrt(1.0 - r_tilde2)  # noqa: E741\n",
    "        k2 = (1.0 - r_tilde2) ** 3\n",
    "        print(i,j)\n",
    "        di[(i,j)]=calculate(l1,k1,l2,k2,ALPHA)\n",
    "\n",
    "min_key=min(di, key=di.get)\n",
    "max_key=max(di, key=di.get)\n",
    "print(min_key,di[min_key])\n",
    "print(max_key,di[max_key])"
   ]
  },
  {
   "cell_type": "code",
   "execution_count": null,
   "id": "356cfd9f-28d6-4a1c-9055-7279ba130c2d",
   "metadata": {},
   "outputs": [],
   "source": [
    "print(di)"
   ]
  }
 ],
 "metadata": {
  "kernelspec": {
   "display_name": "Python 3 (ipykernel)",
   "language": "python",
   "name": "python3"
  },
  "language_info": {
   "codemirror_mode": {
    "name": "ipython",
    "version": 3
   },
   "file_extension": ".py",
   "mimetype": "text/x-python",
   "name": "python",
   "nbconvert_exporter": "python",
   "pygments_lexer": "ipython3",
   "version": "3.9.12"
  }
 },
 "nbformat": 4,
 "nbformat_minor": 5
}
