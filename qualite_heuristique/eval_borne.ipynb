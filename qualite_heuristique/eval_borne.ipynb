{
 "cells": [
  {
   "cell_type": "code",
   "execution_count": null,
   "id": "ecb26ba5-78bf-427c-90f5-e5be9c204b8d",
   "metadata": {},
   "outputs": [],
   "source": [
    "import numpy as np\n",
    "R_MAX=10\n",
    "ALPHA=0.01\n",
    "\n",
    "def calculate(a,b,c,d,al):\n",
    "    print(1/((al+b)*(al+b+d)))\n",
    "    return ((a*b+c*d+(a*b*b/(al+2*b)))*(al-d)-(al+b+d)*(a*b+c*d))   /((al+b)*(al+b+d))\n",
    "\n",
    "di=dict()\n",
    "n1=range(-10,11)\n",
    "for i in n1:\n",
    "    r_tilde = i / (1.0 + R_MAX)\n",
    "    r_tilde2 = r_tilde ** 2\n",
    "    l1 = -1.0 * r_tilde / np.sqrt(1.0 - r_tilde2)  # noqa: E741\n",
    "    k1 = (1.0 - r_tilde2) ** 3\n",
    "    for j in n1:\n",
    "        r_tilde = j / (1.0 + R_MAX)\n",
    "        r_tilde2 = r_tilde ** 2\n",
    "        l2 = -1.0 * r_tilde / np.sqrt(1.0 - r_tilde2)  # noqa: E741\n",
    "        k2 = (1.0 - r_tilde2) ** 3\n",
    "        di[(i,j)]=calculate(l1,k1,l2,k2,ALPHA)\n",
    "\n",
    "min_key=min(di, key=di.get)\n",
    "max_key=max(di, key=di.get)\n",
    "print(min_key,di[min_key])\n",
    "print(max_key,di[max_key])"
   ]
  }
 ],
 "metadata": {
  "kernelspec": {
   "display_name": "Python 3 (ipykernel)",
   "language": "python",
   "name": "python3"
  },
  "language_info": {
   "codemirror_mode": {
    "name": "ipython",
    "version": 3
   },
   "file_extension": ".py",
   "mimetype": "text/x-python",
   "name": "python",
   "nbconvert_exporter": "python",
   "pygments_lexer": "ipython3",
   "version": "3.9.12"
  }
 },
 "nbformat": 4,
 "nbformat_minor": 5
}
