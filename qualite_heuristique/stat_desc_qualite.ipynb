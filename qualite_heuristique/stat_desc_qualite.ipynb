{
 "cells": [
  {
   "cell_type": "code",
   "execution_count": null,
   "id": "e3aec7e8-bad8-4464-a8c1-2545906a48f9",
   "metadata": {},
   "outputs": [],
   "source": [
    "import pandas as pd\n",
    "import seaborn as sns\n",
    "import random\n",
    "import scipy.stats as ss\n",
    "import numpy as np\n",
    "import matplotlib.pyplot as plt"
   ]
  },
  {
   "cell_type": "code",
   "execution_count": null,
   "id": "504a79cd-b1c0-4b48-87c8-80d8a2c86e86",
   "metadata": {},
   "outputs": [],
   "source": [
    "BIAIS_SN=\"biais de somme nulle\"\n",
    "SOMME_ECART_ABSOLU=\"somme des écarts absolus\""
   ]
  },
  {
   "cell_type": "code",
   "execution_count": null,
   "id": "cd19888c-53ac-4e30-a90c-fc1fae7d8dd6",
   "metadata": {},
   "outputs": [],
   "source": [
    "meta_df=pd.DataFrame(columns=[\"file\", \"biais_sn_moyen\", \"biais_sn_std\",\"biais_sn_min\",\"biais_sn_max\",\"biais_sn_med\"])"
   ]
  },
  {
   "cell_type": "code",
   "execution_count": null,
   "id": "70a62f31-819d-42dd-bebb-ca21ba5fa386",
   "metadata": {},
   "outputs": [],
   "source": [
    "def afficher_histogramme_et_enregistrer_stat(file,meta_df,nom_bias,color=None):\n",
    "    df = pd.read_csv(file,header=None)\n",
    "    df.columns=[nom_bias]\n",
    "    sns.displot(df[nom_bias],kde=True,color=color)\n",
    "    new_row_meta_df= pd.DataFrame(\n",
    "            [(file,df[nom_bias].mean(),df[nom_bias].std()\n",
    "             ,df[nom_bias].min()\n",
    "            ,df[nom_bias].max()\n",
    "            ,df[nom_bias].median()\n",
    "             )],\n",
    "            columns=[\"file\", \"biais_sn_moyen\", \"biais_sn_std\",\"biais_sn_min\",\"biais_sn_max\",\"biais_sn_med\"],\n",
    "        )\n",
    "    meta_df=pd.concat([meta_df, new_row_meta_df])\n",
    "    return meta_df"
   ]
  },
  {
   "cell_type": "code",
   "execution_count": null,
   "id": "b3365e26-4c30-4c9d-81ea-9e9a516abeaa",
   "metadata": {},
   "outputs": [],
   "source": [
    "def afficher_histogramme_et_enregistrer_stat_pour_liste(liste,meta_df,nom_bias,color=None):\n",
    "    for file in liste:\n",
    "        meta_df=afficher_histogramme_et_enregistrer_stat(file,meta_df,nom_bias,color)\n",
    "    return meta_df"
   ]
  },
  {
   "cell_type": "markdown",
   "id": "62fc7fc5-3fcf-4912-96ae-615d4109857c",
   "metadata": {
    "tags": []
   },
   "source": [
    "# Simulations Monte-Carlo"
   ]
  },
  {
   "cell_type": "markdown",
   "id": "d33f898c-b7de-4419-af75-a095aabd0a73",
   "metadata": {
    "tags": []
   },
   "source": [
    "## 1. Scenarios d'ajout cumulés et loi uniforme sur les scores sur un sous-échantillon n tiré aléatoirement de m entités"
   ]
  },
  {
   "cell_type": "code",
   "execution_count": null,
   "id": "7c66afd0-4752-468c-aa2d-d73b00fb1327",
   "metadata": {},
   "outputs": [],
   "source": [
    "l=[random.randint(-10,10) for _ in range(100000)]\n",
    "sns.histplot(l)"
   ]
  },
  {
   "cell_type": "markdown",
   "id": "a07a14ac-29f0-4c6e-82fa-2c516d8d8bd5",
   "metadata": {},
   "source": [
    "### 1.1 n=10 ajouts et m=12 entités"
   ]
  },
  {
   "cell_type": "code",
   "execution_count": null,
   "id": "8c6528c0-6a8e-4416-84c1-7717c497a2e3",
   "metadata": {},
   "outputs": [],
   "source": [
    "liste=[\"score_clean.csv\",\"score2_clean.csv\",\"score3_clean.csv\",\"score4_clean.csv\",\"score5_clean.csv\"]\n",
    "meta_df=afficher_histogramme_et_enregistrer_stat_pour_liste(liste,meta_df,BIAIS_SN)"
   ]
  },
  {
   "cell_type": "markdown",
   "id": "e49712b1-9ccf-4d60-8daf-9301c0ac826b",
   "metadata": {},
   "source": [
    "### 1.2 n=10 ajouts et m=13 entités"
   ]
  },
  {
   "cell_type": "code",
   "execution_count": null,
   "id": "1ce76dd0-4d8f-4013-8041-4e11ab18358f",
   "metadata": {},
   "outputs": [],
   "source": [
    "liste=[\"13_entities_10_samples/score_13_1_clean.csv\",\n",
    "       \"13_entities_10_samples/score_13_2_clean.csv\",\n",
    "       \"13_entities_10_samples/score_13_3_clean.csv\",\n",
    "       \"13_entities_10_samples/score_13_4_clean.csv\",\n",
    "       \"13_entities_10_samples/score_13_5_clean.csv\"]\n",
    "meta_df=afficher_histogramme_et_enregistrer_stat_pour_liste(liste,meta_df,BIAIS_SN)"
   ]
  },
  {
   "cell_type": "markdown",
   "id": "dddd8a6a-0a01-4d1a-a475-747626ff410a",
   "metadata": {},
   "source": [
    "### 1.3 n=10 ajouts et m=20 entités"
   ]
  },
  {
   "cell_type": "code",
   "execution_count": null,
   "id": "f9be7e04-b540-4a1d-8e3f-37b75c4b2804",
   "metadata": {},
   "outputs": [],
   "source": [
    "liste=[\"20_entities_10_samples/score_20_1_clean.csv\",\n",
    "       \"20_entities_10_samples/score_20_2_clean.csv\",\n",
    "       \"20_entities_10_samples/score_20_3_clean.csv\",\n",
    "       \"20_entities_10_samples/score_20_4_clean.csv\",\n",
    "       \"20_entities_10_samples/score_20_5_clean.csv\"]\n",
    "meta_df=afficher_histogramme_et_enregistrer_stat_pour_liste(liste,meta_df,BIAIS_SN)"
   ]
  },
  {
   "cell_type": "code",
   "execution_count": null,
   "id": "332c1b3a-229f-49f3-bbb7-6dec12ec64ed",
   "metadata": {},
   "outputs": [],
   "source": [
    "DIRECTORY=\"20_entities_10_samples\"\n",
    "liste=[\"{}/score_20_10_uniform_220831_clean_{}.csv\".format(DIRECTORY,i) for i in range(1,6)]\n",
    "meta_df=afficher_histogramme_et_enregistrer_stat_pour_liste(liste,meta_df,BIAIS_SN)"
   ]
  },
  {
   "cell_type": "code",
   "execution_count": null,
   "id": "18696952-a18f-432d-a729-9030d04b46f3",
   "metadata": {},
   "outputs": [],
   "source": [
    "DIRECTORY=\"20_entities_10_samples\"\n",
    "liste=[\"{}/score_20_10_uniform_220831_mea_{}.csv\".format(DIRECTORY,i) for i in range(1,6)]\n",
    "meta_df=afficher_histogramme_et_enregistrer_stat_pour_liste(liste,meta_df,SOMME_ECART_ABSOLU,color=\"red\")"
   ]
  },
  {
   "cell_type": "markdown",
   "id": "42ce3335-6be3-495b-a5be-5f36d13498f1",
   "metadata": {},
   "source": [
    "### 1.4 n=10 ajouts et m=100 entités"
   ]
  },
  {
   "cell_type": "code",
   "execution_count": null,
   "id": "54f74d96-40a3-4266-9fa5-15222413b975",
   "metadata": {},
   "outputs": [],
   "source": [
    "liste=[\"100_entities_10_samples/score_100_10_1_clean.csv\",\n",
    "       \"100_entities_10_samples/score_100_10_2_clean.csv\",\n",
    "       \"100_entities_10_samples/score_100_10_3_clean.csv\",\n",
    "       \"100_entities_10_samples/score_100_10_4_clean.csv\",\n",
    "       \"100_entities_10_samples/score_100_10_5_clean.csv\"]\n",
    "meta_df=afficher_histogramme_et_enregistrer_stat_pour_liste(liste,meta_df,BIAIS_SN)"
   ]
  },
  {
   "cell_type": "markdown",
   "id": "22251697-c628-4d8c-a944-c1f0aa99fefb",
   "metadata": {},
   "source": [
    "### 1.5 n=10 ajouts et m=1000 entités"
   ]
  },
  {
   "cell_type": "code",
   "execution_count": null,
   "id": "d13e852b-5b4b-4726-a0d7-c5cdba922813",
   "metadata": {},
   "outputs": [],
   "source": [
    "meta_df=afficher_histogramme_et_enregistrer_stat(\"1000_entities_100_samples/score_1000_100_1_clean.csv\",meta_df,BIAIS_SN)"
   ]
  },
  {
   "cell_type": "markdown",
   "id": "fda156c9-08cb-4683-90af-a11f430a32c5",
   "metadata": {},
   "source": [
    "### 1.6 n=1 ajouts et m=20 entités"
   ]
  },
  {
   "cell_type": "code",
   "execution_count": null,
   "id": "a3ec0ca1-dc65-48b3-b66b-8ecd2217674d",
   "metadata": {},
   "outputs": [],
   "source": [
    "DIRECTORY=\"20_entities_1_samples\"\n",
    "liste=[\"{}/score_20_1_uniform_220831_clean_{}.csv\".format(DIRECTORY,i) for i in range(1,6)]\n",
    "meta_df=afficher_histogramme_et_enregistrer_stat_pour_liste(liste,meta_df,BIAIS_SN)"
   ]
  },
  {
   "cell_type": "code",
   "execution_count": null,
   "id": "b8b94f71-7006-472a-8182-3c6ecf71428e",
   "metadata": {},
   "outputs": [],
   "source": [
    "DIRECTORY=\"20_entities_1_samples\"\n",
    "liste=[\"{}/score_20_1_uniform_220831_mea_{}.csv\".format(DIRECTORY,i) for i in range(1,6)]\n",
    "meta_df=afficher_histogramme_et_enregistrer_stat_pour_liste(liste,meta_df,SOMME_ECART_ABSOLU,color=\"red\")"
   ]
  },
  {
   "cell_type": "code",
   "execution_count": null,
   "id": "08ab31f5-75db-4cac-b4e9-03d6e6aa6748",
   "metadata": {},
   "outputs": [],
   "source": [
    "### 1.7 n=5 ajouts et m=20 entités"
   ]
  },
  {
   "cell_type": "code",
   "execution_count": null,
   "id": "aca09d62-0e63-426a-8a07-55b73e9f48b8",
   "metadata": {},
   "outputs": [],
   "source": [
    "DIRECTORY=\"20_entities_5_samples\"\n",
    "liste=[\"{}/score_20_5_uniform_220831_clean_{}.csv\".format(DIRECTORY,i) for i in range(1,6)]\n",
    "meta_df=afficher_histogramme_et_enregistrer_stat_pour_liste(liste,meta_df,BIAIS_SN)"
   ]
  },
  {
   "cell_type": "code",
   "execution_count": null,
   "id": "d7b99559-aeb5-46df-98e8-321934e08695",
   "metadata": {},
   "outputs": [],
   "source": [
    "DIRECTORY=\"20_entities_5_samples\"\n",
    "liste=[\"{}/score_20_5_uniform_220831_mea_{}.csv\".format(DIRECTORY,i) for i in range(1,6)]\n",
    "meta_df=afficher_histogramme_et_enregistrer_stat_pour_liste(liste,meta_df,SOMME_ECART_ABSOLU,color=\"red\")"
   ]
  },
  {
   "cell_type": "markdown",
   "id": "a9e875ba-c00f-4fdf-9b8b-d0899bf86678",
   "metadata": {
    "tags": []
   },
   "source": [
    "## 2. Scenarios d'ajout cumulés et loi gaussienne discrète sur les scores sur un sous-échantillon n tiré aléatoirement de m entités"
   ]
  },
  {
   "cell_type": "code",
   "execution_count": null,
   "id": "9149dc63-0661-4f14-b89f-e065354b0b4d",
   "metadata": {},
   "outputs": [],
   "source": [
    "x = np.arange(-10, 11)\n",
    "xU, xL = x + 0.5, x - 0.5 \n",
    "prob = ss.norm.cdf(xU, scale = 3) - ss.norm.cdf(xL, scale = 3)\n",
    "prob = prob / prob.sum() # normalize the probabilities so their sum is 1\n",
    "nums = np.random.choice(x, size = 10000, p = prob)\n",
    "plt.hist(nums, bins = len(x))"
   ]
  },
  {
   "cell_type": "markdown",
   "id": "b09ccb15-301c-445f-a282-29146ff1ca54",
   "metadata": {},
   "source": [
    "### 2.1 n=10 ajouts et m=12 entités"
   ]
  },
  {
   "cell_type": "code",
   "execution_count": null,
   "id": "2b85a5b3-f515-452a-bdbf-e989d05e8002",
   "metadata": {},
   "outputs": [],
   "source": [
    "liste=[\"score_12_10_gauss_clean_1.csv\",\n",
    "       \"score_12_10_gauss_clean_2.csv\",\n",
    "      \"score_12_10_gauss_clean_3.csv\",\n",
    "      \"score_12_10_gauss_clean_4.csv\",\n",
    "      \"score_12_10_gauss_clean_5.csv\",]\n",
    "meta_df=afficher_histogramme_et_enregistrer_stat_pour_liste(liste,meta_df,BIAIS_SN)"
   ]
  },
  {
   "cell_type": "markdown",
   "id": "2950458d-6559-4d0f-9bce-aaf68c2b0e90",
   "metadata": {},
   "source": [
    "### 2.2 n=10 ajouts et m=20 entités"
   ]
  },
  {
   "cell_type": "code",
   "execution_count": null,
   "id": "5112c2cd-b173-4167-a081-396df97be2e5",
   "metadata": {},
   "outputs": [],
   "source": [
    "liste=[\"20_entities_10_samples/score_20_10_gauss_clean_1.csv\",\n",
    "      \"20_entities_10_samples/score_20_10_gauss_clean_2.csv\",\n",
    "      \"20_entities_10_samples/score_20_10_gauss_clean_3.csv\",\n",
    "      \"20_entities_10_samples/score_20_10_gauss_clean_4.csv\",\n",
    "      \"20_entities_10_samples/score_20_10_gauss_clean_5.csv\",\n",
    "      \"20_entities_10_samples/score_20_10_gauss_clean_6.csv\"]\n",
    "meta_df=afficher_histogramme_et_enregistrer_stat_pour_liste(liste,meta_df,BIAIS_SN)"
   ]
  },
  {
   "cell_type": "code",
   "execution_count": null,
   "id": "c18409f4-121c-42ee-ae3e-a94417146496",
   "metadata": {},
   "outputs": [],
   "source": [
    "DIRECTORY=\"20_entities_10_samples\"\n",
    "liste=[\"{}/score_20_10_gauss_220830_clean_{}.csv\".format(DIRECTORY,i) for i in range(1,11)]\n",
    "meta_df=afficher_histogramme_et_enregistrer_stat_pour_liste(liste,meta_df,BIAIS_SN)"
   ]
  },
  {
   "cell_type": "code",
   "execution_count": null,
   "id": "9ec743d7-4571-482c-ac91-cd896c6d7377",
   "metadata": {},
   "outputs": [],
   "source": [
    "DIRECTORY=\"20_entities_10_samples\"\n",
    "liste=[\"{}/score_20_10_gauss_220830_mea_{}.csv\".format(DIRECTORY,i) for i in range(1,11)]\n",
    "meta_df=afficher_histogramme_et_enregistrer_stat_pour_liste(liste,meta_df,SOMME_ECART_ABSOLU,color=\"red\")"
   ]
  },
  {
   "cell_type": "markdown",
   "id": "c5cf6493-7cf4-4763-8c53-a6a8d2c73ca7",
   "metadata": {},
   "source": [
    "### 2.3 n=10 ajouts et m=100 entités"
   ]
  },
  {
   "cell_type": "code",
   "execution_count": null,
   "id": "6e28bd67-102c-4f22-a34f-c53a6ef730a3",
   "metadata": {},
   "outputs": [],
   "source": [
    "liste=[\"100_entities_10_samples/score_100_10_gauss_clean_1.csv\",\n",
    "       \"100_entities_10_samples/score_100_10_gauss_clean_2.csv\",\n",
    "       \"100_entities_10_samples/score_100_10_gauss_clean_3.csv\",\n",
    "       \"100_entities_10_samples/score_100_10_gauss_clean_4.csv\",\n",
    "       \"100_entities_10_samples/score_100_10_gauss_clean_5.csv\",\n",
    "      ]\n",
    "meta_df=afficher_histogramme_et_enregistrer_stat_pour_liste(liste,meta_df,BIAIS_SN)"
   ]
  },
  {
   "cell_type": "markdown",
   "id": "d04d8ed2-345a-405d-94c7-2eb3ce711a1c",
   "metadata": {},
   "source": [
    "### 2.4 n=1 ajouts et m=20 entités"
   ]
  },
  {
   "cell_type": "code",
   "execution_count": null,
   "id": "09e337ea-32c8-4e7b-95de-80bccf5cec64",
   "metadata": {},
   "outputs": [],
   "source": [
    "DIRECTORY=\"20_entities_1_samples\"\n",
    "liste=[\"{}/score_20_1_gauss_220830_clean_{}.csv\".format(DIRECTORY,i) for i in range(1,6)]\n",
    "meta_df=afficher_histogramme_et_enregistrer_stat_pour_liste(liste,meta_df,BIAIS_SN)"
   ]
  },
  {
   "cell_type": "code",
   "execution_count": null,
   "id": "39ea77f8-6abd-4aed-becc-fc793a9dbd52",
   "metadata": {},
   "outputs": [],
   "source": [
    "DIRECTORY=\"20_entities_1_samples\"\n",
    "liste=[\"{}/score_20_1_gauss_220830_mea_{}.csv\".format(DIRECTORY,i) for i in range(1,6)]\n",
    "meta_df=afficher_histogramme_et_enregistrer_stat_pour_liste(liste,meta_df,SOMME_ECART_ABSOLU,color=\"red\")"
   ]
  },
  {
   "cell_type": "markdown",
   "id": "eedb6e2b-f89b-41fb-b081-b9b619b93376",
   "metadata": {},
   "source": [
    "### 2.5 n=5 ajouts et m=20 entités"
   ]
  },
  {
   "cell_type": "code",
   "execution_count": null,
   "id": "d2ff785b-feba-4b7c-b1f8-aaf76953aae6",
   "metadata": {},
   "outputs": [],
   "source": [
    "DIRECTORY=\"20_entities_5_samples\"\n",
    "liste=[\"{}/score_20_5_gauss_220830_clean_{}.csv\".format(DIRECTORY,i) for i in range(1,6)]\n",
    "meta_df=afficher_histogramme_et_enregistrer_stat_pour_liste(liste,meta_df,BIAIS_SN)"
   ]
  },
  {
   "cell_type": "code",
   "execution_count": null,
   "id": "f20ca654-cdbe-44d4-838c-30f543ebce13",
   "metadata": {},
   "outputs": [],
   "source": [
    "DIRECTORY=\"20_entities_5_samples\"\n",
    "liste=[\"{}/score_20_5_gauss_220830_mea_{}.csv\".format(DIRECTORY,i) for i in range(1,6)]\n",
    "meta_df=afficher_histogramme_et_enregistrer_stat_pour_liste(liste,meta_df,SOMME_ECART_ABSOLU,color=\"red\")"
   ]
  },
  {
   "cell_type": "markdown",
   "id": "9108486c-5ac4-485c-b578-acf73b6294ff",
   "metadata": {
    "tags": []
   },
   "source": [
    "## 3. Scenarios d'ajout cumulés et de deux loi gaussiennes discrètes centrées sur les bornes sur les scores sur un sous-échantillon n tiré aléatoirement de m entités"
   ]
  },
  {
   "cell_type": "code",
   "execution_count": null,
   "id": "54dd4f69-2b2e-4ced-9ddf-8b1dd53b2b7d",
   "metadata": {},
   "outputs": [],
   "source": [
    "x = np.arange(-10, 11)\n",
    "prob= np.array([0.13242928, 0.12533694,\n",
    " 0.1062586,  0.08069342, 0.05489084, 0.03344625, 0.01825486, 0.00892463,\n",
    " 0.00390822, 0.00153299,\n",
    "0.00053861, 0.00153299, 0.00390822, 0.00892463, 0.01825486, 0.03344625,\n",
    " 0.05489084, 0.08069342, 0.1062586,  0.12533694, 0.13242928])\n",
    "prob = prob / prob.sum()\n",
    "nums = np.random.choice(x, size = 10000, p = prob)\n",
    "plt.hist(nums, bins = len(x))"
   ]
  },
  {
   "cell_type": "markdown",
   "id": "64dfea08-d4f6-401c-9878-586dac89511f",
   "metadata": {},
   "source": [
    "### 3.1 n=10 ajouts et m=12 entités"
   ]
  },
  {
   "cell_type": "code",
   "execution_count": null,
   "id": "acda5afe-0722-465e-9a4a-95e3a79a4c5f",
   "metadata": {},
   "outputs": [],
   "source": [
    "liste=[\"score_12_10_inversegauss_clean_1.csv\",\n",
    "       \"score_12_10_inversegauss_clean_2.csv\",\n",
    "      \"score_12_10_inversegauss_clean_3.csv\",\n",
    "      \"score_12_10_inversegauss_clean_4.csv\",\n",
    "      \"score_12_10_inversegauss_clean_5.csv\",]\n",
    "meta_df=afficher_histogramme_et_enregistrer_stat_pour_liste(liste,meta_df,BIAIS_SN)"
   ]
  },
  {
   "cell_type": "code",
   "execution_count": null,
   "id": "80525ad7-0ee1-44ea-abba-d2c8ae79efe8",
   "metadata": {},
   "outputs": [],
   "source": [
    "liste=[\"score_12_10_inversegauss_mea_clean_1.csv\",\n",
    "       \"score_12_10_inversegauss_mea_clean_2.csv\",\n",
    "      \"score_12_10_inversegauss_mea_clean_3.csv\",\n",
    "      \"score_12_10_inversegauss_mea_clean_4.csv\",\n",
    "      \"score_12_10_inversegauss_mea_clean_5.csv\",]\n",
    "meta_df=afficher_histogramme_et_enregistrer_stat_pour_liste(liste,meta_df,SOMME_ECART_ABSOLU,color=\"red\")"
   ]
  },
  {
   "cell_type": "markdown",
   "id": "0155fc77-b591-4473-aef8-b9a6f85f2cda",
   "metadata": {},
   "source": [
    "### 3.2 n=10 ajouts et m=100 entités"
   ]
  },
  {
   "cell_type": "code",
   "execution_count": null,
   "id": "ca7b3a1f-af32-44b2-ad4d-80bdb3a119e7",
   "metadata": {},
   "outputs": [],
   "source": [
    "liste=[\"100_entities_10_samples/score_100_10_inversegauss_clean_1.csv\",\n",
    "      \"100_entities_10_samples/score_100_10_inversegauss_clean_2.csv\",\n",
    "      \"100_entities_10_samples/score_100_10_inversegauss_clean_3.csv\",\n",
    "      \"100_entities_10_samples/score_100_10_inversegauss_clean_4.csv\",\n",
    "      \"100_entities_10_samples/score_100_10_inversegauss_clean_5.csv\"]\n",
    "meta_df=afficher_histogramme_et_enregistrer_stat_pour_liste(liste,meta_df,BIAIS_SN)"
   ]
  },
  {
   "cell_type": "markdown",
   "id": "3d4ba531-df61-440c-9ee4-fc6275eadacf",
   "metadata": {},
   "source": [
    "### 3.3 n=100 ajouts et m=1000 entités"
   ]
  },
  {
   "cell_type": "code",
   "execution_count": null,
   "id": "1b7234d0-21e5-40ec-ad65-aca9b55a0486",
   "metadata": {},
   "outputs": [],
   "source": [
    "meta_df=afficher_histogramme_et_enregistrer_stat(\"1000_entities_100_samples/score_1000_100_inversegauss_220828_clean_431.csv\",meta_df,BIAIS_SN)"
   ]
  },
  {
   "cell_type": "code",
   "execution_count": null,
   "id": "ee419eac-a113-4d84-9b10-f7d5e0ea3306",
   "metadata": {},
   "outputs": [],
   "source": [
    "meta_df=afficher_histogramme_et_enregistrer_stat(\"1000_entities_100_samples/score_1000_100_inversegauss_mea_220828_clean_431.csv\",meta_df,SOMME_ECART_ABSOLU,color=\"red\")"
   ]
  },
  {
   "cell_type": "markdown",
   "id": "b132d7ba-95a6-460b-85f8-ebcc32f16a8f",
   "metadata": {},
   "source": [
    "### 3.4 n=100 ajouts et m=20 entités"
   ]
  },
  {
   "cell_type": "code",
   "execution_count": null,
   "id": "34b55b3a-792b-48be-bb17-f00246c9aaeb",
   "metadata": {},
   "outputs": [],
   "source": [
    "meta_df=afficher_histogramme_et_enregistrer_stat(\"score_20_100_inversegauss_220830.csv\",meta_df,BIAIS_SN)"
   ]
  },
  {
   "cell_type": "code",
   "execution_count": null,
   "id": "56f00107-a8a0-4614-b298-d1173d0723b2",
   "metadata": {},
   "outputs": [],
   "source": [
    "meta_df=afficher_histogramme_et_enregistrer_stat(\"score_20_100_inversegauss_mea_220830.csv\",meta_df,SOMME_ECART_ABSOLU,color=\"red\")"
   ]
  },
  {
   "cell_type": "markdown",
   "id": "858547ea-0865-43c0-88b0-227ca5129ab9",
   "metadata": {},
   "source": [
    "### 3.5 n=1 ajouts et m=20 entités"
   ]
  },
  {
   "cell_type": "code",
   "execution_count": null,
   "id": "915f3ae9-9f15-4c1f-a521-1644bc8e5849",
   "metadata": {},
   "outputs": [],
   "source": [
    "DIRECTORY=\"20_entities_1_samples\"\n",
    "liste=[\"{}/score_20_1_inversegauss_220830_clean_{}.csv\".format(DIRECTORY,i) for i in range(1,6)]\n",
    "meta_df=afficher_histogramme_et_enregistrer_stat_pour_liste(liste,meta_df,BIAIS_SN)"
   ]
  },
  {
   "cell_type": "code",
   "execution_count": null,
   "id": "8e83d3fc-e251-40bb-a338-9828d3291c12",
   "metadata": {},
   "outputs": [],
   "source": [
    "DIRECTORY=\"20_entities_1_samples\"\n",
    "liste=[\"{}/score_20_1_inversegauss_mea_220830_{}.csv\".format(DIRECTORY,i) for i in range(1,6)]\n",
    "meta_df=afficher_histogramme_et_enregistrer_stat_pour_liste(liste,meta_df,SOMME_ECART_ABSOLU,color=\"red\")"
   ]
  },
  {
   "cell_type": "markdown",
   "id": "6ac7d768-01e3-420b-ad94-3bb2016e999a",
   "metadata": {},
   "source": [
    "### 3.6 n=5 ajouts et m=20 entités"
   ]
  },
  {
   "cell_type": "code",
   "execution_count": null,
   "id": "c7a7f9ad-cbca-4f0b-8d0c-a79866c1af66",
   "metadata": {},
   "outputs": [],
   "source": [
    "DIRECTORY=\"20_entities_5_samples\"\n",
    "liste=[\"{}/score_20_5_inversegauss_clean_220830_{}.csv\".format(DIRECTORY,i) for i in range(1,6)]\n",
    "meta_df=afficher_histogramme_et_enregistrer_stat_pour_liste(liste,meta_df,BIAIS_SN)"
   ]
  },
  {
   "cell_type": "code",
   "execution_count": null,
   "id": "1ee3a021-a43c-410d-ad2e-c90f626bf8b7",
   "metadata": {},
   "outputs": [],
   "source": [
    "DIRECTORY=\"20_entities_5_samples\"\n",
    "liste=[\"{}/score_20_5_inversegauss_mea_220830_{}.csv\".format(DIRECTORY,i) for i in range(1,6)]\n",
    "meta_df=afficher_histogramme_et_enregistrer_stat_pour_liste(liste,meta_df,SOMME_ECART_ABSOLU,color=\"red\")"
   ]
  },
  {
   "cell_type": "markdown",
   "id": "4f687394-fc70-441f-afdc-0b9dea52057b",
   "metadata": {},
   "source": [
    "### 3.7 n=10 ajouts et m=20 entités"
   ]
  },
  {
   "cell_type": "code",
   "execution_count": null,
   "id": "3a2f5a74-1560-454d-a37c-9f5642f84bef",
   "metadata": {},
   "outputs": [],
   "source": [
    "DIRECTORY=\"20_entities_10_samples\"\n",
    "liste=[\"{}/score_20_10_inversegauss_clean_{}.csv\".format(DIRECTORY,i) for i in range(1,6)]\n",
    "meta_df=afficher_histogramme_et_enregistrer_stat_pour_liste(liste,meta_df,BIAIS_SN)"
   ]
  },
  {
   "cell_type": "code",
   "execution_count": null,
   "id": "2d081fd9-14a9-4ffc-94e8-f402c23bbca5",
   "metadata": {},
   "outputs": [],
   "source": [
    "DIRECTORY=\"20_entities_10_samples\"\n",
    "liste=[\"{}/score_20_10_inversegauss_mea_{}.csv\".format(DIRECTORY,i) for i in range(1,6)]\n",
    "meta_df=afficher_histogramme_et_enregistrer_stat_pour_liste(liste,meta_df,SOMME_ECART_ABSOLU,color=\"red\")"
   ]
  },
  {
   "cell_type": "code",
   "execution_count": null,
   "id": "2d65e5be-c356-465a-be0c-20b66699c14d",
   "metadata": {},
   "outputs": [],
   "source": [
    "meta_df"
   ]
  }
 ],
 "metadata": {
  "kernelspec": {
   "display_name": "Python 3 (ipykernel)",
   "language": "python",
   "name": "python3"
  },
  "language_info": {
   "codemirror_mode": {
    "name": "ipython",
    "version": 3
   },
   "file_extension": ".py",
   "mimetype": "text/x-python",
   "name": "python",
   "nbconvert_exporter": "python",
   "pygments_lexer": "ipython3",
   "version": "3.9.12"
  }
 },
 "nbformat": 4,
 "nbformat_minor": 5
}
