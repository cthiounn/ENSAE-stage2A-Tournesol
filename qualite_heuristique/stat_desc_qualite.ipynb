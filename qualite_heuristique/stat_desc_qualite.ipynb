{
 "cells": [
  {
   "cell_type": "code",
   "execution_count": null,
   "id": "e3aec7e8-bad8-4464-a8c1-2545906a48f9",
   "metadata": {},
   "outputs": [],
   "source": [
    "import pandas as pd\n",
    "import seaborn as sns"
   ]
  },
  {
   "cell_type": "code",
   "execution_count": null,
   "id": "6fe33f89-03af-4566-b6f3-f4d5b50f9c70",
   "metadata": {},
   "outputs": [],
   "source": [
    "df = pd.read_csv(\"score_clean.csv\",header=None)\n",
    "df.columns=[\"biais de somme nulle\"]\n",
    "sns.displot(df)"
   ]
  },
  {
   "cell_type": "code",
   "execution_count": null,
   "id": "2522c6ca-30b7-488b-847e-0ad6a44dabaa",
   "metadata": {},
   "outputs": [],
   "source": [
    "df = pd.read_csv(\"score2_clean.csv\",header=None)\n",
    "df.columns=[\"biais de somme nulle\"]\n",
    "sns.displot(df)"
   ]
  },
  {
   "cell_type": "code",
   "execution_count": null,
   "id": "e601c261-ec15-4196-b731-5b318c08c991",
   "metadata": {},
   "outputs": [],
   "source": [
    "df = pd.read_csv(\"score3_clean.csv\",header=None)\n",
    "df.columns=[\"biais de somme nulle\"]\n",
    "sns.displot(df)"
   ]
  },
  {
   "cell_type": "code",
   "execution_count": null,
   "id": "aa7b41d6-4039-49df-915c-95eb9e2f5c0a",
   "metadata": {},
   "outputs": [],
   "source": [
    "df = pd.read_csv(\"score4_clean.csv\",header=None)\n",
    "df.columns=[\"biais de somme nulle\"]\n",
    "sns.displot(df)"
   ]
  },
  {
   "cell_type": "code",
   "execution_count": null,
   "id": "f7b8c556-8c92-4199-a654-5bc680a984eb",
   "metadata": {},
   "outputs": [],
   "source": [
    "df = pd.read_csv(\"score5_clean.csv\",header=None)\n",
    "df.columns=[\"biais de somme nulle\"]\n",
    "sns.displot(df)"
   ]
  },
  {
   "cell_type": "code",
   "execution_count": null,
   "id": "1d683777-b2ef-4df2-8a61-510378d06504",
   "metadata": {},
   "outputs": [],
   "source": []
  },
  {
   "cell_type": "code",
   "execution_count": null,
   "id": "ea035a33-2f4f-4ff0-8536-59db8f2192a6",
   "metadata": {},
   "outputs": [],
   "source": [
    "df = pd.read_csv(\"13_entities_10_samples/score_13_1_clean.csv\",header=None)\n",
    "df.columns=[\"biais de somme nulle\"]\n",
    "sns.displot(df)"
   ]
  },
  {
   "cell_type": "code",
   "execution_count": null,
   "id": "0174a653-ac0b-4852-8408-9736e6aeff2c",
   "metadata": {},
   "outputs": [],
   "source": [
    "df = pd.read_csv(\"13_entities_10_samples/score_13_2_clean.csv\",header=None)\n",
    "df.columns=[\"biais de somme nulle\"]\n",
    "sns.displot(df)"
   ]
  },
  {
   "cell_type": "code",
   "execution_count": null,
   "id": "de1641bc-2b8b-446e-be3e-d44b1e1f9523",
   "metadata": {},
   "outputs": [],
   "source": [
    "df = pd.read_csv(\"13_entities_10_samples/score_13_3_clean.csv\",header=None)\n",
    "df.columns=[\"biais de somme nulle\"]\n",
    "sns.displot(df)"
   ]
  },
  {
   "cell_type": "code",
   "execution_count": null,
   "id": "bbb50693-65d4-4c7d-a692-625234280ff0",
   "metadata": {},
   "outputs": [],
   "source": [
    "df = pd.read_csv(\"13_entities_10_samples/score_13_4_clean.csv\",header=None)\n",
    "df.columns=[\"biais de somme nulle\"]\n",
    "sns.displot(df)"
   ]
  },
  {
   "cell_type": "code",
   "execution_count": null,
   "id": "5839df60-00e4-483c-8043-5057eeb9fb87",
   "metadata": {},
   "outputs": [],
   "source": [
    "df = pd.read_csv(\"13_entities_10_samples/score_13_5_clean.csv\",header=None)\n",
    "df.columns=[\"biais de somme nulle\"]\n",
    "sns.displot(df)"
   ]
  },
  {
   "cell_type": "code",
   "execution_count": null,
   "id": "76554fcd-6e49-415b-a0d4-72024725d90a",
   "metadata": {},
   "outputs": [],
   "source": []
  },
  {
   "cell_type": "code",
   "execution_count": null,
   "id": "65133419-6206-4dac-af54-7e2c4ab829ce",
   "metadata": {},
   "outputs": [],
   "source": [
    "df = pd.read_csv(\"20_entities_10_samples/score_20_1_clean.csv\",header=None)\n",
    "df.columns=[\"biais de somme nulle\"]\n",
    "sns.displot(df)"
   ]
  },
  {
   "cell_type": "code",
   "execution_count": null,
   "id": "84fcc772-849f-4ee2-8164-51954482ccab",
   "metadata": {},
   "outputs": [],
   "source": [
    "df = pd.read_csv(\"20_entities_10_samples/score_20_2_clean.csv\",header=None)\n",
    "df.columns=[\"biais de somme nulle\"]\n",
    "sns.displot(df)"
   ]
  },
  {
   "cell_type": "code",
   "execution_count": null,
   "id": "a76eee0c-cd37-4a21-a46d-be5588daaa89",
   "metadata": {},
   "outputs": [],
   "source": [
    "df = pd.read_csv(\"20_entities_10_samples/score_20_3_clean.csv\",header=None)\n",
    "df.columns=[\"biais de somme nulle\"]\n",
    "sns.displot(df)"
   ]
  },
  {
   "cell_type": "code",
   "execution_count": null,
   "id": "292ab4b5-02fe-46c7-8fbe-5857f1216b59",
   "metadata": {},
   "outputs": [],
   "source": [
    "df = pd.read_csv(\"20_entities_10_samples/score_20_4_clean.csv\",header=None)\n",
    "df.columns=[\"biais de somme nulle\"]\n",
    "sns.displot(df, kde=True)"
   ]
  },
  {
   "cell_type": "code",
   "execution_count": null,
   "id": "31a09f23-d8fc-4de3-a3b2-81a23c7c6c20",
   "metadata": {},
   "outputs": [],
   "source": [
    "df.mean()\n",
    "df.std()"
   ]
  },
  {
   "cell_type": "code",
   "execution_count": null,
   "id": "cef0e8ff-768e-4fdd-993a-3387113ead2d",
   "metadata": {},
   "outputs": [],
   "source": [
    "df = pd.read_csv(\"20_entities_10_samples/score_20_5_clean.csv\",header=None)\n",
    "df.columns=[\"biais de somme nulle\"]\n",
    "sns.displot(df, kde=True)"
   ]
  },
  {
   "cell_type": "code",
   "execution_count": null,
   "id": "13d8f606-fcb5-4b6e-8b09-07a0f98f33f7",
   "metadata": {},
   "outputs": [],
   "source": []
  }
 ],
 "metadata": {
  "kernelspec": {
   "display_name": "Python 3 (ipykernel)",
   "language": "python",
   "name": "python3"
  },
  "language_info": {
   "codemirror_mode": {
    "name": "ipython",
    "version": 3
   },
   "file_extension": ".py",
   "mimetype": "text/x-python",
   "name": "python",
   "nbconvert_exporter": "python",
   "pygments_lexer": "ipython3",
   "version": "3.9.12"
  }
 },
 "nbformat": 4,
 "nbformat_minor": 5
}
