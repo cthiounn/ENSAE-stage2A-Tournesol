{
 "cells": [
  {
   "cell_type": "code",
   "execution_count": null,
   "id": "e3aec7e8-bad8-4464-a8c1-2545906a48f9",
   "metadata": {},
   "outputs": [],
   "source": [
    "import pandas as pd\n",
    "import seaborn as sns"
   ]
  },
  {
   "cell_type": "code",
   "execution_count": null,
   "id": "6fe33f89-03af-4566-b6f3-f4d5b50f9c70",
   "metadata": {},
   "outputs": [],
   "source": [
    "df = pd.read_csv(\"score_clean.csv\",header=None)\n",
    "df.columns=[\"biais de somme nulle\"]\n",
    "sns.displot(df)"
   ]
  },
  {
   "cell_type": "code",
   "execution_count": null,
   "id": "2522c6ca-30b7-488b-847e-0ad6a44dabaa",
   "metadata": {},
   "outputs": [],
   "source": [
    "df = pd.read_csv(\"score2_clean.csv\",header=None)\n",
    "df.columns=[\"biais de somme nulle\"]\n",
    "sns.displot(df)"
   ]
  },
  {
   "cell_type": "code",
   "execution_count": null,
   "id": "e601c261-ec15-4196-b731-5b318c08c991",
   "metadata": {},
   "outputs": [],
   "source": [
    "df = pd.read_csv(\"score3_clean.csv\",header=None)\n",
    "df.columns=[\"biais de somme nulle\"]\n",
    "sns.displot(df)"
   ]
  },
  {
   "cell_type": "code",
   "execution_count": null,
   "id": "aa7b41d6-4039-49df-915c-95eb9e2f5c0a",
   "metadata": {},
   "outputs": [],
   "source": [
    "df = pd.read_csv(\"score4_clean.csv\",header=None)\n",
    "df.columns=[\"biais de somme nulle\"]\n",
    "sns.displot(df)"
   ]
  },
  {
   "cell_type": "code",
   "execution_count": null,
   "id": "f7b8c556-8c92-4199-a654-5bc680a984eb",
   "metadata": {},
   "outputs": [],
   "source": [
    "df = pd.read_csv(\"score5_clean.csv\",header=None)\n",
    "df.columns=[\"biais de somme nulle\"]\n",
    "sns.displot(df)"
   ]
  },
  {
   "cell_type": "code",
   "execution_count": null,
   "id": "1d683777-b2ef-4df2-8a61-510378d06504",
   "metadata": {},
   "outputs": [],
   "source": []
  },
  {
   "cell_type": "code",
   "execution_count": null,
   "id": "ea035a33-2f4f-4ff0-8536-59db8f2192a6",
   "metadata": {},
   "outputs": [],
   "source": []
  },
  {
   "cell_type": "code",
   "execution_count": null,
   "id": "76554fcd-6e49-415b-a0d4-72024725d90a",
   "metadata": {},
   "outputs": [],
   "source": []
  }
 ],
 "metadata": {
  "kernelspec": {
   "display_name": "Python 3 (ipykernel)",
   "language": "python",
   "name": "python3"
  },
  "language_info": {
   "codemirror_mode": {
    "name": "ipython",
    "version": 3
   },
   "file_extension": ".py",
   "mimetype": "text/x-python",
   "name": "python",
   "nbconvert_exporter": "python",
   "pygments_lexer": "ipython3",
   "version": "3.9.12"
  }
 },
 "nbformat": 4,
 "nbformat_minor": 5
}
