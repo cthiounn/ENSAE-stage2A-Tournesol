{
 "cells": [
  {
   "cell_type": "code",
   "execution_count": 1,
   "id": "e3aec7e8-bad8-4464-a8c1-2545906a48f9",
   "metadata": {},
   "outputs": [],
   "source": [
    "import pandas as pd\n",
    "import seaborn as sns"
   ]
  },
  {
   "cell_type": "code",
   "execution_count": 2,
   "id": "504a79cd-b1c0-4b48-87c8-80d8a2c86e86",
   "metadata": {},
   "outputs": [],
   "source": [
    "BIAIS_SN=\"biais de somme nulle\"\n",
    "SOMME_ECART_ABSOLU=\"somme des écarts absolus\""
   ]
  },
  {
   "cell_type": "code",
   "execution_count": 3,
   "id": "cd19888c-53ac-4e30-a90c-fc1fae7d8dd6",
   "metadata": {},
   "outputs": [],
   "source": [
    "meta_df=pd.DataFrame(columns=[\"file\", \"biais_sn_moyen\", \"biais_sn_std\",\"biais_sn_min\",\"biais_sn_max\",\"biais_sn_med\"])"
   ]
  },
  {
   "cell_type": "code",
   "execution_count": 4,
   "id": "70a62f31-819d-42dd-bebb-ca21ba5fa386",
   "metadata": {},
   "outputs": [],
   "source": [
    "def afficher_histogramme_et_enregistrer_stat(file,meta_df,nom_bias):\n",
    "    print(color)\n",
    "    df = pd.read_csv(file,header=None)\n",
    "    df.columns=[nom_bias]\n",
    "    sns.displot(df,kde=True)\n",
    "    new_row_meta_df= pd.DataFrame(\n",
    "            [(file,df[nom_bias].mean(),df[nom_bias].std()\n",
    "             ,df[nom_bias].min()\n",
    "            ,df[nom_bias].max()\n",
    "            ,df[nom_bias].median()\n",
    "             )],\n",
    "            columns=[\"file\", \"biais_sn_moyen\", \"biais_sn_std\",\"biais_sn_min\",\"biais_sn_max\",\"biais_sn_med\"],\n",
    "        )\n",
    "    meta_df=pd.concat([meta_df, new_row_meta_df])\n",
    "    return meta_df"
   ]
  },
  {
   "cell_type": "code",
   "execution_count": 5,
   "id": "b3365e26-4c30-4c9d-81ea-9e9a516abeaa",
   "metadata": {},
   "outputs": [],
   "source": [
    "def afficher_histogramme_et_enregistrer_stat_pour_liste(liste,meta_df,nom_bias):\n",
    "    for file in liste:\n",
    "        meta_df=afficher_histogramme_et_enregistrer_stat(file,meta_df,nom_bias)\n",
    "    return meta_df"
   ]
  },
  {
   "cell_type": "markdown",
   "id": "62fc7fc5-3fcf-4912-96ae-615d4109857c",
   "metadata": {},
   "source": [
    "# Simulations Monte-Carlo"
   ]
  },
  {
   "cell_type": "markdown",
   "id": "d33f898c-b7de-4419-af75-a095aabd0a73",
   "metadata": {},
   "source": [
    "## Scenarios d'ajout cumulés et loi uniforme sur les scores sur un sous-échantillon n tiré aléatoirement de m entités"
   ]
  },
  {
   "cell_type": "markdown",
   "id": "a07a14ac-29f0-4c6e-82fa-2c516d8d8bd5",
   "metadata": {},
   "source": [
    "* n=10 ajouts et m=12 entités"
   ]
  },
  {
   "cell_type": "code",
   "execution_count": 6,
   "id": "8c6528c0-6a8e-4416-84c1-7717c497a2e3",
   "metadata": {},
   "outputs": [
    {
     "ename": "NameError",
     "evalue": "name 'color' is not defined",
     "output_type": "error",
     "traceback": [
      "\u001b[0;31m---------------------------------------------------------------------------\u001b[0m",
      "\u001b[0;31mNameError\u001b[0m                                 Traceback (most recent call last)",
      "Input \u001b[0;32mIn [6]\u001b[0m, in \u001b[0;36m<cell line: 2>\u001b[0;34m()\u001b[0m\n\u001b[1;32m      1\u001b[0m liste\u001b[38;5;241m=\u001b[39m[\u001b[38;5;124m\"\u001b[39m\u001b[38;5;124mscore_clean.csv\u001b[39m\u001b[38;5;124m\"\u001b[39m,\u001b[38;5;124m\"\u001b[39m\u001b[38;5;124mscore2_clean.csv\u001b[39m\u001b[38;5;124m\"\u001b[39m,\u001b[38;5;124m\"\u001b[39m\u001b[38;5;124mscore3_clean.csv\u001b[39m\u001b[38;5;124m\"\u001b[39m,\u001b[38;5;124m\"\u001b[39m\u001b[38;5;124mscore4_clean.csv\u001b[39m\u001b[38;5;124m\"\u001b[39m,\u001b[38;5;124m\"\u001b[39m\u001b[38;5;124mscore5_clean.csv\u001b[39m\u001b[38;5;124m\"\u001b[39m]\n\u001b[0;32m----> 2\u001b[0m meta_df\u001b[38;5;241m=\u001b[39m\u001b[43mafficher_histogramme_et_enregistrer_stat_pour_liste\u001b[49m\u001b[43m(\u001b[49m\u001b[43mliste\u001b[49m\u001b[43m,\u001b[49m\u001b[43mmeta_df\u001b[49m\u001b[43m,\u001b[49m\u001b[43mBIAIS_SN\u001b[49m\u001b[43m)\u001b[49m\n",
      "Input \u001b[0;32mIn [5]\u001b[0m, in \u001b[0;36mafficher_histogramme_et_enregistrer_stat_pour_liste\u001b[0;34m(liste, meta_df, nom_bias)\u001b[0m\n\u001b[1;32m      1\u001b[0m \u001b[38;5;28;01mdef\u001b[39;00m \u001b[38;5;21mafficher_histogramme_et_enregistrer_stat_pour_liste\u001b[39m(liste,meta_df,nom_bias):\n\u001b[1;32m      2\u001b[0m     \u001b[38;5;28;01mfor\u001b[39;00m file \u001b[38;5;129;01min\u001b[39;00m liste:\n\u001b[0;32m----> 3\u001b[0m         meta_df\u001b[38;5;241m=\u001b[39m\u001b[43mafficher_histogramme_et_enregistrer_stat\u001b[49m\u001b[43m(\u001b[49m\u001b[43mfile\u001b[49m\u001b[43m,\u001b[49m\u001b[43mmeta_df\u001b[49m\u001b[43m,\u001b[49m\u001b[43mnom_bias\u001b[49m\u001b[43m)\u001b[49m\n\u001b[1;32m      4\u001b[0m     \u001b[38;5;28;01mreturn\u001b[39;00m meta_df\n",
      "Input \u001b[0;32mIn [4]\u001b[0m, in \u001b[0;36mafficher_histogramme_et_enregistrer_stat\u001b[0;34m(file, meta_df, nom_bias)\u001b[0m\n\u001b[1;32m      1\u001b[0m \u001b[38;5;28;01mdef\u001b[39;00m \u001b[38;5;21mafficher_histogramme_et_enregistrer_stat\u001b[39m(file,meta_df,nom_bias):\n\u001b[0;32m----> 2\u001b[0m     \u001b[38;5;28mprint\u001b[39m(\u001b[43mcolor\u001b[49m)\n\u001b[1;32m      3\u001b[0m     df \u001b[38;5;241m=\u001b[39m pd\u001b[38;5;241m.\u001b[39mread_csv(file,header\u001b[38;5;241m=\u001b[39m\u001b[38;5;28;01mNone\u001b[39;00m)\n\u001b[1;32m      4\u001b[0m     df\u001b[38;5;241m.\u001b[39mcolumns\u001b[38;5;241m=\u001b[39m[nom_bias]\n",
      "\u001b[0;31mNameError\u001b[0m: name 'color' is not defined"
     ]
    }
   ],
   "source": [
    "liste=[\"score_clean.csv\",\"score2_clean.csv\",\"score3_clean.csv\",\"score4_clean.csv\",\"score5_clean.csv\"]\n",
    "meta_df=afficher_histogramme_et_enregistrer_stat_pour_liste(liste,meta_df,BIAIS_SN)"
   ]
  },
  {
   "cell_type": "markdown",
   "id": "e49712b1-9ccf-4d60-8daf-9301c0ac826b",
   "metadata": {},
   "source": [
    "* n=10 ajouts et m=13* n=10 ajouts et m=12 entités entités"
   ]
  },
  {
   "cell_type": "code",
   "execution_count": null,
   "id": "1ce76dd0-4d8f-4013-8041-4e11ab18358f",
   "metadata": {},
   "outputs": [],
   "source": [
    "liste=[\"13_entities_10_samples/score_13_1_clean.csv\",\n",
    "       \"13_entities_10_samples/score_13_2_clean.csv\",\n",
    "       \"13_entities_10_samples/score_13_3_clean.csv\",\n",
    "       \"13_entities_10_samples/score_13_4_clean.csv\",\n",
    "       \"13_entities_10_samples/score_13_5_clean.csv\"]\n",
    "meta_df=afficher_histogramme_et_enregistrer_stat_pour_liste(liste,meta_df,BIAIS_SN)"
   ]
  },
  {
   "cell_type": "markdown",
   "id": "dddd8a6a-0a01-4d1a-a475-747626ff410a",
   "metadata": {},
   "source": [
    "* n=10 ajouts et m=20 entités"
   ]
  },
  {
   "cell_type": "code",
   "execution_count": null,
   "id": "f9be7e04-b540-4a1d-8e3f-37b75c4b2804",
   "metadata": {},
   "outputs": [],
   "source": [
    "liste=[\"20_entities_10_samples/score_20_1_clean.csv\",\n",
    "       \"20_entities_10_samples/score_20_2_clean.csv\",\n",
    "       \"20_entities_10_samples/score_20_3_clean.csv\",\n",
    "       \"20_entities_10_samples/score_20_4_clean.csv\",\n",
    "       \"20_entities_10_samples/score_20_5_clean.csv\"]\n",
    "meta_df=afficher_histogramme_et_enregistrer_stat_pour_liste(liste,meta_df,BIAIS_SN)"
   ]
  },
  {
   "cell_type": "markdown",
   "id": "42ce3335-6be3-495b-a5be-5f36d13498f1",
   "metadata": {},
   "source": [
    "* n=10 ajouts et m=100 entités"
   ]
  },
  {
   "cell_type": "code",
   "execution_count": null,
   "id": "54f74d96-40a3-4266-9fa5-15222413b975",
   "metadata": {},
   "outputs": [],
   "source": [
    "liste=[\"100_entities_10_samples/score_100_10_1_clean.csv\",\n",
    "       \"100_entities_10_samples/score_100_10_2_clean.csv\",\n",
    "       \"100_entities_10_samples/score_100_10_3_clean.csv\",\n",
    "       \"100_entities_10_samples/score_100_10_4_clean.csv\",\n",
    "       \"100_entities_10_samples/score_100_10_5_clean.csv\"]\n",
    "meta_df=afficher_histogramme_et_enregistrer_stat_pour_liste(liste,meta_df,BIAIS_SN)"
   ]
  },
  {
   "cell_type": "markdown",
   "id": "22251697-c628-4d8c-a944-c1f0aa99fefb",
   "metadata": {},
   "source": [
    "* n=100 ajouts et m=1000 entités"
   ]
  },
  {
   "cell_type": "code",
   "execution_count": null,
   "id": "d13e852b-5b4b-4726-a0d7-c5cdba922813",
   "metadata": {},
   "outputs": [],
   "source": [
    "meta_df=afficher_histogramme_et_enregistrer_stat(\"1000_entities_100_samples/score_1000_100_1_clean.csv\",meta_df,BIAIS_SN)"
   ]
  },
  {
   "cell_type": "markdown",
   "id": "a9e875ba-c00f-4fdf-9b8b-d0899bf86678",
   "metadata": {},
   "source": [
    "## Scenarios d'ajout cumulés et loi gaussienne discrète sur les scores sur un sous-échantillon n tiré aléatoirement de m entités"
   ]
  },
  {
   "cell_type": "code",
   "execution_count": null,
   "id": "2b85a5b3-f515-452a-bdbf-e989d05e8002",
   "metadata": {},
   "outputs": [],
   "source": [
    "liste=[\"score_12_10_gauss_clean_1.csv\",\n",
    "       \"score_12_10_gauss_clean_2.csv\",\n",
    "      \"score_12_10_gauss_clean_3.csv\",\n",
    "      \"score_12_10_gauss_clean_4.csv\",\n",
    "      \"score_12_10_gauss_clean_5.csv\",]\n",
    "meta_df=afficher_histogramme_et_enregistrer_stat_pour_liste(liste,meta_df,BIAIS_SN)"
   ]
  },
  {
   "cell_type": "code",
   "execution_count": null,
   "id": "5112c2cd-b173-4167-a081-396df97be2e5",
   "metadata": {},
   "outputs": [],
   "source": [
    "liste=[\"20_entities_10_samples/score_20_10_gauss_clean_1.csv\",\n",
    "      \"20_entities_10_samples/score_20_10_gauss_clean_2.csv\",\n",
    "      \"20_entities_10_samples/score_20_10_gauss_clean_3.csv\",\n",
    "      \"20_entities_10_samples/score_20_10_gauss_clean_4.csv\",\n",
    "      \"20_entities_10_samples/score_20_10_gauss_clean_5.csv\",\n",
    "      \"20_entities_10_samples/score_20_10_gauss_clean_6.csv\"]\n",
    "meta_df=afficher_histogramme_et_enregistrer_stat_pour_liste(liste,meta_df,BIAIS_SN)"
   ]
  },
  {
   "cell_type": "code",
   "execution_count": null,
   "id": "6e28bd67-102c-4f22-a34f-c53a6ef730a3",
   "metadata": {},
   "outputs": [],
   "source": [
    "liste=[\"100_entities_10_samples/score_100_10_gauss_clean_1.csv\",\n",
    "       \"100_entities_10_samples/score_100_10_gauss_clean_2.csv\",\n",
    "       \"100_entities_10_samples/score_100_10_gauss_clean_3.csv\",\n",
    "       \"100_entities_10_samples/score_100_10_gauss_clean_4.csv\",\n",
    "       \"100_entities_10_samples/score_100_10_gauss_clean_5.csv\",\n",
    "      ]\n",
    "meta_df=afficher_histogramme_et_enregistrer_stat_pour_liste(liste,meta_df,BIAIS_SN)"
   ]
  },
  {
   "cell_type": "markdown",
   "id": "9108486c-5ac4-485c-b578-acf73b6294ff",
   "metadata": {},
   "source": [
    "## Scenarios d'ajout cumulés et de deux loi gaussiennes discrètes centrées sur les bornes sur les scores sur un sous-échantillon n tiré aléatoirement de m entités"
   ]
  },
  {
   "cell_type": "code",
   "execution_count": null,
   "id": "acda5afe-0722-465e-9a4a-95e3a79a4c5f",
   "metadata": {},
   "outputs": [],
   "source": [
    "liste=[\"score_12_10_inversegauss_clean_1.csv\",\n",
    "       \"score_12_10_inversegauss_clean_2.csv\",\n",
    "      \"score_12_10_inversegauss_clean_3.csv\",\n",
    "      \"score_12_10_inversegauss_clean_4.csv\",\n",
    "      \"score_12_10_inversegauss_clean_5.csv\",]\n",
    "meta_df=afficher_histogramme_et_enregistrer_stat_pour_liste(liste,meta_df,BIAIS_SN)"
   ]
  },
  {
   "cell_type": "code",
   "execution_count": null,
   "id": "80525ad7-0ee1-44ea-abba-d2c8ae79efe8",
   "metadata": {},
   "outputs": [],
   "source": [
    "liste=[\"score_12_10_inversegauss_mea_clean_1.csv\",\n",
    "       \"score_12_10_inversegauss_mea_clean_2.csv\",\n",
    "      \"score_12_10_inversegauss_mea_clean_3.csv\",\n",
    "      \"score_12_10_inversegauss_mea_clean_4.csv\",\n",
    "      \"score_12_10_inversegauss_mea_clean_5.csv\",]\n",
    "meta_df=afficher_histogramme_et_enregistrer_stat_pour_liste(liste,meta_df,SOMME_ECART_ABSOLU\")"
   ]
  },
  {
   "cell_type": "code",
   "execution_count": null,
   "id": "ae6ca049-2302-497c-bca7-425f67fd2e8a",
   "metadata": {},
   "outputs": [],
   "source": []
  },
  {
   "cell_type": "code",
   "execution_count": null,
   "id": "ca7b3a1f-af32-44b2-ad4d-80bdb3a119e7",
   "metadata": {},
   "outputs": [],
   "source": [
    "liste=[\"100_entities_10_samples/score_100_10_inversegauss_clean_1.csv\",\n",
    "      \"100_entities_10_samples/score_100_10_inversegauss_clean_2.csv\",\n",
    "      \"100_entities_10_samples/score_100_10_inversegauss_clean_3.csv\",\n",
    "      \"100_entities_10_samples/score_100_10_inversegauss_clean_4.csv\",\n",
    "      \"100_entities_10_samples/score_100_10_inversegauss_clean_5.csv\"]\n",
    "meta_df=afficher_histogramme_et_enregistrer_stat_pour_liste(liste,meta_df,BIAIS_SN)"
   ]
  },
  {
   "cell_type": "code",
   "execution_count": null,
   "id": "0e54b0b3-ebe9-4cd0-8284-aed07be67be0",
   "metadata": {},
   "outputs": [],
   "source": []
  },
  {
   "cell_type": "code",
   "execution_count": null,
   "id": "1b7234d0-21e5-40ec-ad65-aca9b55a0486",
   "metadata": {},
   "outputs": [],
   "source": [
    "meta_df=afficher_histogramme_et_enregistrer_stat(\"1000_entities_100_samples/score_1000_100_inversegauss_220828_clean_431.csv\",meta_df,BIAIS_SN)"
   ]
  },
  {
   "cell_type": "code",
   "execution_count": null,
   "id": "ee419eac-a113-4d84-9b10-f7d5e0ea3306",
   "metadata": {},
   "outputs": [],
   "source": [
    "meta_df=afficher_histogramme_et_enregistrer_stat(\"1000_entities_100_samples/score_1000_100_inversegauss_mea_220828_clean_431.csv\",meta_df,SOMME_ECART_ABSOLU)"
   ]
  },
  {
   "cell_type": "code",
   "execution_count": null,
   "id": "d490fdc9-e146-4854-ac85-7beff9b9c068",
   "metadata": {},
   "outputs": [],
   "source": []
  },
  {
   "cell_type": "code",
   "execution_count": null,
   "id": "34b55b3a-792b-48be-bb17-f00246c9aaeb",
   "metadata": {},
   "outputs": [],
   "source": [
    "meta_df=afficher_histogramme_et_enregistrer_stat(\"score_20_100_inversegauss_220830.csv\",meta_df,BIAIS_SN)"
   ]
  },
  {
   "cell_type": "code",
   "execution_count": null,
   "id": "56f00107-a8a0-4614-b298-d1173d0723b2",
   "metadata": {},
   "outputs": [],
   "source": [
    "meta_df=afficher_histogramme_et_enregistrer_stat(\"score_20_100_inversegauss_mea_220830.csv\",meta_df,SOMME_ECART_ABSOLU)"
   ]
  },
  {
   "cell_type": "code",
   "execution_count": null,
   "id": "2d65e5be-c356-465a-be0c-20b66699c14d",
   "metadata": {},
   "outputs": [],
   "source": [
    "meta_df"
   ]
  }
 ],
 "metadata": {
  "kernelspec": {
   "display_name": "Python 3 (ipykernel)",
   "language": "python",
   "name": "python3"
  },
  "language_info": {
   "codemirror_mode": {
    "name": "ipython",
    "version": 3
   },
   "file_extension": ".py",
   "mimetype": "text/x-python",
   "name": "python",
   "nbconvert_exporter": "python",
   "pygments_lexer": "ipython3",
   "version": "3.9.12"
  }
 },
 "nbformat": 4,
 "nbformat_minor": 5
}
