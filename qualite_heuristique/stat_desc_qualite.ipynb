{
 "cells": [
  {
   "cell_type": "code",
   "execution_count": null,
   "id": "e3aec7e8-bad8-4464-a8c1-2545906a48f9",
   "metadata": {},
   "outputs": [],
   "source": [
    "import pandas as pd\n",
    "import seaborn as sns"
   ]
  },
  {
   "cell_type": "code",
   "execution_count": null,
   "id": "cd19888c-53ac-4e30-a90c-fc1fae7d8dd6",
   "metadata": {},
   "outputs": [],
   "source": [
    "meta_df=pd.DataFrame(columns=[\"file\", \"biais_sn_moyen\", \"biais_sn_std\",\"biais_sn_min\",\"biais_sn_max\",\"biais_sn_med\"])"
   ]
  },
  {
   "cell_type": "code",
   "execution_count": null,
   "id": "70a62f31-819d-42dd-bebb-ca21ba5fa386",
   "metadata": {},
   "outputs": [],
   "source": [
    "def afficher_histogramme_et_enregistrer_stat(file,meta_df):\n",
    "    df = pd.read_csv(file,header=None)\n",
    "    df.columns=[\"biais de somme nulle\"]\n",
    "    sns.displot(df,kde=True)\n",
    "    new_row_meta_df= pd.DataFrame(\n",
    "            [(file,df[\"biais de somme nulle\"].mean(),df[\"biais de somme nulle\"].std()\n",
    "             ,df[\"biais de somme nulle\"].min()\n",
    "            ,df[\"biais de somme nulle\"].max()\n",
    "            ,df[\"biais de somme nulle\"].median()\n",
    "             )],\n",
    "            columns=[\"file\", \"biais_sn_moyen\", \"biais_sn_std\",\"biais_sn_min\",\"biais_sn_max\",\"biais_sn_med\"],\n",
    "        )\n",
    "    meta_df=pd.concat([meta_df, new_row_meta_df])\n",
    "    return meta_df"
   ]
  },
  {
   "cell_type": "markdown",
   "id": "62fc7fc5-3fcf-4912-96ae-615d4109857c",
   "metadata": {},
   "source": [
    "# Simulations Monte-Carlo"
   ]
  },
  {
   "cell_type": "markdown",
   "id": "d33f898c-b7de-4419-af75-a095aabd0a73",
   "metadata": {},
   "source": [
    "## Scenarios d'ajout cumulés et loi uniforme sur les scores sur un sous-échantillon n tiré aléatoirement de m entités"
   ]
  },
  {
   "cell_type": "markdown",
   "id": "a07a14ac-29f0-4c6e-82fa-2c516d8d8bd5",
   "metadata": {},
   "source": [
    "* n=10 ajouts et m=12 entités"
   ]
  },
  {
   "cell_type": "code",
   "execution_count": null,
   "id": "58a67fa8-9305-4e4b-a2a4-0c126e918fa7",
   "metadata": {},
   "outputs": [],
   "source": [
    "meta_df=afficher_histogramme_et_enregistrer_stat(\"score_clean.csv\",meta_df)"
   ]
  },
  {
   "cell_type": "code",
   "execution_count": null,
   "id": "2522c6ca-30b7-488b-847e-0ad6a44dabaa",
   "metadata": {},
   "outputs": [],
   "source": [
    "meta_df=afficher_histogramme_et_enregistrer_stat(\"score2_clean.csv\",meta_df)"
   ]
  },
  {
   "cell_type": "code",
   "execution_count": null,
   "id": "e601c261-ec15-4196-b731-5b318c08c991",
   "metadata": {},
   "outputs": [],
   "source": [
    "meta_df=afficher_histogramme_et_enregistrer_stat(\"score3_clean.csv\",meta_df)"
   ]
  },
  {
   "cell_type": "code",
   "execution_count": null,
   "id": "aa7b41d6-4039-49df-915c-95eb9e2f5c0a",
   "metadata": {},
   "outputs": [],
   "source": [
    "meta_df=afficher_histogramme_et_enregistrer_stat(\"score4_clean.csv\",meta_df)"
   ]
  },
  {
   "cell_type": "code",
   "execution_count": null,
   "id": "f7b8c556-8c92-4199-a654-5bc680a984eb",
   "metadata": {},
   "outputs": [],
   "source": [
    "meta_df=afficher_histogramme_et_enregistrer_stat(\"score5_clean.csv\",meta_df)"
   ]
  },
  {
   "cell_type": "markdown",
   "id": "e49712b1-9ccf-4d60-8daf-9301c0ac826b",
   "metadata": {},
   "source": [
    "* n=10 ajouts et m=13* n=10 ajouts et m=12 entités entités"
   ]
  },
  {
   "cell_type": "code",
   "execution_count": null,
   "id": "ea035a33-2f4f-4ff0-8536-59db8f2192a6",
   "metadata": {},
   "outputs": [],
   "source": [
    "meta_df=afficher_histogramme_et_enregistrer_stat(\"13_entities_10_samples/score_13_1_clean.csv\",meta_df)"
   ]
  },
  {
   "cell_type": "code",
   "execution_count": null,
   "id": "0174a653-ac0b-4852-8408-9736e6aeff2c",
   "metadata": {},
   "outputs": [],
   "source": [
    "meta_df=afficher_histogramme_et_enregistrer_stat(\"13_entities_10_samples/score_13_2_clean.csv\",meta_df)"
   ]
  },
  {
   "cell_type": "code",
   "execution_count": null,
   "id": "de1641bc-2b8b-446e-be3e-d44b1e1f9523",
   "metadata": {},
   "outputs": [],
   "source": [
    "meta_df=afficher_histogramme_et_enregistrer_stat(\"13_entities_10_samples/score_13_3_clean.csv\",meta_df)"
   ]
  },
  {
   "cell_type": "code",
   "execution_count": null,
   "id": "bbb50693-65d4-4c7d-a692-625234280ff0",
   "metadata": {},
   "outputs": [],
   "source": [
    "meta_df=afficher_histogramme_et_enregistrer_stat(\"13_entities_10_samples/score_13_4_clean.csv\",meta_df)"
   ]
  },
  {
   "cell_type": "code",
   "execution_count": null,
   "id": "5839df60-00e4-483c-8043-5057eeb9fb87",
   "metadata": {},
   "outputs": [],
   "source": [
    "meta_df=afficher_histogramme_et_enregistrer_stat(\"13_entities_10_samples/score_13_5_clean.csv\",meta_df)"
   ]
  },
  {
   "cell_type": "markdown",
   "id": "dddd8a6a-0a01-4d1a-a475-747626ff410a",
   "metadata": {},
   "source": [
    "* n=10 ajouts et m=20 entités"
   ]
  },
  {
   "cell_type": "code",
   "execution_count": null,
   "id": "65133419-6206-4dac-af54-7e2c4ab829ce",
   "metadata": {},
   "outputs": [],
   "source": [
    "meta_df=afficher_histogramme_et_enregistrer_stat(\"20_entities_10_samples/score_20_1_clean.csv\",meta_df)"
   ]
  },
  {
   "cell_type": "code",
   "execution_count": null,
   "id": "84fcc772-849f-4ee2-8164-51954482ccab",
   "metadata": {},
   "outputs": [],
   "source": [
    "meta_df=afficher_histogramme_et_enregistrer_stat(\"20_entities_10_samples/score_20_2_clean.csv\",meta_df)"
   ]
  },
  {
   "cell_type": "code",
   "execution_count": null,
   "id": "a76eee0c-cd37-4a21-a46d-be5588daaa89",
   "metadata": {},
   "outputs": [],
   "source": [
    "meta_df=afficher_histogramme_et_enregistrer_stat(\"20_entities_10_samples/score_20_3_clean.csv\",meta_df)"
   ]
  },
  {
   "cell_type": "code",
   "execution_count": null,
   "id": "292ab4b5-02fe-46c7-8fbe-5857f1216b59",
   "metadata": {},
   "outputs": [],
   "source": [
    "meta_df=afficher_histogramme_et_enregistrer_stat(\"20_entities_10_samples/score_20_4_clean.csv\",meta_df)"
   ]
  },
  {
   "cell_type": "code",
   "execution_count": null,
   "id": "cef0e8ff-768e-4fdd-993a-3387113ead2d",
   "metadata": {},
   "outputs": [],
   "source": [
    "meta_df=afficher_histogramme_et_enregistrer_stat(\"20_entities_10_samples/score_20_5_clean.csv\",meta_df)"
   ]
  },
  {
   "cell_type": "markdown",
   "id": "42ce3335-6be3-495b-a5be-5f36d13498f1",
   "metadata": {},
   "source": [
    "* n=10 ajouts et m=100 entités"
   ]
  },
  {
   "cell_type": "code",
   "execution_count": null,
   "id": "4df8c9eb-a40f-40b9-9f2e-6e5085fbd1e7",
   "metadata": {},
   "outputs": [],
   "source": [
    "meta_df=afficher_histogramme_et_enregistrer_stat(\"100_entities_10_samples/score_100_10_1_clean.csv\",meta_df)"
   ]
  },
  {
   "cell_type": "code",
   "execution_count": null,
   "id": "ba003eae-b5e2-4ed1-92e4-ee62a062016d",
   "metadata": {},
   "outputs": [],
   "source": [
    "meta_df=afficher_histogramme_et_enregistrer_stat(\"100_entities_10_samples/score_100_10_2_clean.csv\",meta_df)"
   ]
  },
  {
   "cell_type": "code",
   "execution_count": null,
   "id": "935663e8-fc5c-4c07-a6f3-b3b3304df057",
   "metadata": {},
   "outputs": [],
   "source": [
    "meta_df=afficher_histogramme_et_enregistrer_stat(\"100_entities_10_samples/score_100_10_3_clean.csv\",meta_df)"
   ]
  },
  {
   "cell_type": "code",
   "execution_count": null,
   "id": "e89b8f6d-35e8-4d03-a00c-98d778234ce0",
   "metadata": {},
   "outputs": [],
   "source": [
    "meta_df=afficher_histogramme_et_enregistrer_stat(\"100_entities_10_samples/score_100_10_4_clean.csv\",meta_df)"
   ]
  },
  {
   "cell_type": "code",
   "execution_count": null,
   "id": "034171cb-9e84-4043-81ea-ff6989d5f99c",
   "metadata": {},
   "outputs": [],
   "source": [
    "meta_df=afficher_histogramme_et_enregistrer_stat(\"100_entities_10_samples/score_100_10_5_clean.csv\",meta_df)"
   ]
  },
  {
   "cell_type": "markdown",
   "id": "22251697-c628-4d8c-a944-c1f0aa99fefb",
   "metadata": {},
   "source": [
    "* n=100 ajouts et m=1000 entités"
   ]
  },
  {
   "cell_type": "code",
   "execution_count": null,
   "id": "9589f632-3701-430d-a47a-37aedb313aff",
   "metadata": {},
   "outputs": [],
   "source": [
    "meta_df=afficher_histogramme_et_enregistrer_stat(\"1000_entities_100_samples/score_1000_100_1_clean.csv\",meta_df)"
   ]
  },
  {
   "cell_type": "code",
   "execution_count": null,
   "id": "70fdc711-0f5f-47e7-b613-37f9fd1f70a0",
   "metadata": {},
   "outputs": [],
   "source": []
  },
  {
   "cell_type": "code",
   "execution_count": null,
   "id": "b566a584-43ac-4c72-95d6-3e1002d33f26",
   "metadata": {},
   "outputs": [],
   "source": [
    "meta_df=afficher_histogramme_et_enregistrer_stat(\"20_entities_10_samples/score_20_10_gauss_clean_1.csv\",meta_df)"
   ]
  },
  {
   "cell_type": "code",
   "execution_count": null,
   "id": "fe746cea-1023-420c-bca8-57eebf8d7e42",
   "metadata": {},
   "outputs": [],
   "source": [
    "meta_df=afficher_histogramme_et_enregistrer_stat(\"20_entities_10_samples/score_20_10_gauss_clean_2.csv\",meta_df)"
   ]
  },
  {
   "cell_type": "code",
   "execution_count": null,
   "id": "8ec9b8aa-09fc-467c-9f27-3e795b3bff6c",
   "metadata": {},
   "outputs": [],
   "source": [
    "meta_df=afficher_histogramme_et_enregistrer_stat(\"20_entities_10_samples/score_20_10_gauss_clean_3.csv\",meta_df)"
   ]
  },
  {
   "cell_type": "code",
   "execution_count": null,
   "id": "fbc6e099-9715-4bc6-a7c0-5d461dc2e45f",
   "metadata": {},
   "outputs": [],
   "source": [
    "meta_df=afficher_histogramme_et_enregistrer_stat(\"20_entities_10_samples/score_20_10_gauss_clean_4.csv\",meta_df)"
   ]
  },
  {
   "cell_type": "code",
   "execution_count": null,
   "id": "0970caa4-f62c-4742-b886-283389899b09",
   "metadata": {},
   "outputs": [],
   "source": [
    "meta_df=afficher_histogramme_et_enregistrer_stat(\"20_entities_10_samples/score_20_10_gauss_clean_5.csv\",meta_df)"
   ]
  },
  {
   "cell_type": "code",
   "execution_count": null,
   "id": "641140a7-cb0d-4779-8df3-10a9a3fe4c7f",
   "metadata": {},
   "outputs": [],
   "source": [
    "meta_df=afficher_histogramme_et_enregistrer_stat(\"20_entities_10_samples/score_20_10_gauss_clean_6.csv\",meta_df)"
   ]
  },
  {
   "cell_type": "code",
   "execution_count": null,
   "id": "01503bb1-6a03-4571-bbbe-19825b70fa7e",
   "metadata": {},
   "outputs": [],
   "source": [
    "meta_df"
   ]
  },
  {
   "cell_type": "code",
   "execution_count": null,
   "id": "d490fdc9-e146-4854-ac85-7beff9b9c068",
   "metadata": {},
   "outputs": [],
   "source": []
  }
 ],
 "metadata": {
  "kernelspec": {
   "display_name": "Python 3 (ipykernel)",
   "language": "python",
   "name": "python3"
  },
  "language_info": {
   "codemirror_mode": {
    "name": "ipython",
    "version": 3
   },
   "file_extension": ".py",
   "mimetype": "text/x-python",
   "name": "python",
   "nbconvert_exporter": "python",
   "pygments_lexer": "ipython3",
   "version": "3.9.12"
  }
 },
 "nbformat": 4,
 "nbformat_minor": 5
}
