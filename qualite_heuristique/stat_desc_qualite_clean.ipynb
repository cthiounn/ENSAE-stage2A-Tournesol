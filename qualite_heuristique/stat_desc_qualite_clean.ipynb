{
 "cells": [
  {
   "cell_type": "code",
   "execution_count": null,
   "id": "e3aec7e8-bad8-4464-a8c1-2545906a48f9",
   "metadata": {},
   "outputs": [],
   "source": [
    "import pandas as pd\n",
    "import seaborn as sns\n",
    "import random\n",
    "import scipy.stats as ss\n",
    "import numpy as np\n",
    "import matplotlib.pyplot as plt"
   ]
  },
  {
   "cell_type": "code",
   "execution_count": null,
   "id": "504a79cd-b1c0-4b48-87c8-80d8a2c86e86",
   "metadata": {},
   "outputs": [],
   "source": [
    "BIAIS_SN=\"biais de somme nulle\"\n",
    "SOMME_ECART_ABSOLU=\"somme des écarts absolus\""
   ]
  },
  {
   "cell_type": "code",
   "execution_count": null,
   "id": "cd19888c-53ac-4e30-a90c-fc1fae7d8dd6",
   "metadata": {},
   "outputs": [],
   "source": [
    "meta_df=pd.DataFrame(columns=[\"file\", \"biais_sn_moyen\", \"biais_sn_std\",\"biais_sn_min\",\"biais_sn_max\",\"biais_sn_med\"])"
   ]
  },
  {
   "cell_type": "code",
   "execution_count": null,
   "id": "70a62f31-819d-42dd-bebb-ca21ba5fa386",
   "metadata": {},
   "outputs": [],
   "source": [
    "def afficher_histogramme_et_enregistrer_stat(file,meta_df,nom_bias,color=None):\n",
    "    df = pd.read_csv(file,header=None)\n",
    "    df.columns=[nom_bias]\n",
    "    sns.displot(df[nom_bias],kde=True,color=color)\n",
    "    new_row_meta_df= pd.DataFrame(\n",
    "            [(file,df[nom_bias].mean(),df[nom_bias].std()\n",
    "             ,df[nom_bias].min()\n",
    "            ,df[nom_bias].max()\n",
    "            ,df[nom_bias].median()\n",
    "             )],\n",
    "            columns=[\"file\", \"biais_sn_moyen\", \"biais_sn_std\",\"biais_sn_min\",\"biais_sn_max\",\"biais_sn_med\"],\n",
    "        )\n",
    "    meta_df=pd.concat([meta_df, new_row_meta_df])\n",
    "    return meta_df"
   ]
  },
  {
   "cell_type": "code",
   "execution_count": null,
   "id": "b3365e26-4c30-4c9d-81ea-9e9a516abeaa",
   "metadata": {},
   "outputs": [],
   "source": [
    "def afficher_histogramme_et_enregistrer_stat_pour_liste(liste,meta_df,nom_bias,color=None):\n",
    "    for file in liste:\n",
    "        meta_df=afficher_histogramme_et_enregistrer_stat(file,meta_df,nom_bias,color)\n",
    "    return meta_df"
   ]
  },
  {
   "cell_type": "markdown",
   "id": "62fc7fc5-3fcf-4912-96ae-615d4109857c",
   "metadata": {
    "tags": []
   },
   "source": [
    "# Simulations Monte-Carlo"
   ]
  },
  {
   "cell_type": "markdown",
   "id": "d33f898c-b7de-4419-af75-a095aabd0a73",
   "metadata": {
    "tags": []
   },
   "source": [
    "## 1. Scenarios d'ajout cumulés et loi uniforme sur les scores sur un sous-échantillon n tiré aléatoirement de m entités"
   ]
  },
  {
   "cell_type": "code",
   "execution_count": null,
   "id": "7c66afd0-4752-468c-aa2d-d73b00fb1327",
   "metadata": {},
   "outputs": [],
   "source": [
    "l=[random.randint(-10,10) for _ in range(100000)]\n",
    "df=pd.DataFrame(l,columns=['tirage'])\n",
    "\n",
    "sns.histplot(data=df,x=\"tirage\", stat=\"percent\",discrete=True,color=\"red\")"
   ]
  },
  {
   "cell_type": "markdown",
   "id": "dddd8a6a-0a01-4d1a-a475-747626ff410a",
   "metadata": {},
   "source": [
    "### 1.1 n=10 ajouts et m=20 entités"
   ]
  },
  {
   "cell_type": "code",
   "execution_count": null,
   "id": "f9be7e04-b540-4a1d-8e3f-37b75c4b2804",
   "metadata": {},
   "outputs": [],
   "source": [
    "DIRECTORY=\"20_entities_10_samples\"\n",
    "liste=[\"{}/score_20_10_uniform_220920_clean_{}.csv\".format(DIRECTORY,i) for i in range(1,6)]\n",
    "meta_df=afficher_histogramme_et_enregistrer_stat_pour_liste(liste,meta_df,BIAIS_SN)\n",
    "liste=[\"{}/score_20_10_uniform_220920_mea_{}.csv\".format(DIRECTORY,i) for i in range(1,6)]\n",
    "meta_df=afficher_histogramme_et_enregistrer_stat_pour_liste(liste,meta_df,SOMME_ECART_ABSOLU,color=\"red\")"
   ]
  },
  {
   "cell_type": "markdown",
   "id": "dd14f67e-9aec-4ad0-accc-a462e1331da7",
   "metadata": {},
   "source": [
    "### 1.2 n=100 ajouts et m=20 entités"
   ]
  },
  {
   "cell_type": "code",
   "execution_count": null,
   "id": "5ff9ea3d-e8c5-4cc4-a899-9136a08efff4",
   "metadata": {},
   "outputs": [],
   "source": [
    "DIRECTORY=\"20_entities_100_samples\"\n",
    "liste=[\"{}/score_20_100_uniform_220918_clean_{}.csv\".format(DIRECTORY,i) for i in range(1,2)]\n",
    "meta_df=afficher_histogramme_et_enregistrer_stat_pour_liste(liste,meta_df,BIAIS_SN)\n",
    "liste=[\"{}/score_20_100_uniform_220918_mea_{}.csv\".format(DIRECTORY,i) for i in range(1,2)]\n",
    "meta_df=afficher_histogramme_et_enregistrer_stat_pour_liste(liste,meta_df,SOMME_ECART_ABSOLU,color=\"red\")"
   ]
  },
  {
   "cell_type": "code",
   "execution_count": null,
   "id": "54f74d96-40a3-4266-9fa5-15222413b975",
   "metadata": {},
   "outputs": [],
   "source": [
    "liste=[\"100_entities_10_samples/score_100_10_1_clean.csv\",\n",
    "       \"100_entities_10_samples/score_100_10_2_clean.csv\",\n",
    "       \"100_entities_10_samples/score_100_10_3_clean.csv\",\n",
    "       \"100_entities_10_samples/score_100_10_4_clean.csv\",\n",
    "       \"100_entities_10_samples/score_100_10_5_clean.csv\"]\n",
    "meta_df=afficher_histogramme_et_enregistrer_stat_pour_liste(liste,meta_df,BIAIS_SN)"
   ]
  },
  {
   "cell_type": "markdown",
   "id": "a9e875ba-c00f-4fdf-9b8b-d0899bf86678",
   "metadata": {
    "tags": []
   },
   "source": [
    "## 2. Scenarios d'ajout cumulés et loi gaussienne discrète sur les scores sur un sous-échantillon n tiré aléatoirement de m entités"
   ]
  },
  {
   "cell_type": "code",
   "execution_count": null,
   "id": "9149dc63-0661-4f14-b89f-e065354b0b4d",
   "metadata": {},
   "outputs": [],
   "source": [
    "x = np.arange(-10, 11)\n",
    "xU, xL = x + 0.5, x - 0.5 \n",
    "prob = ss.norm.cdf(xU, scale = 3) - ss.norm.cdf(xL, scale = 3)\n",
    "prob = prob / prob.sum() # normalize the probabilities so their sum is 1\n",
    "nums = np.random.choice(x, size = 10000, p = prob)\n",
    "plt.hist(nums, bins = len(x))"
   ]
  },
  {
   "cell_type": "markdown",
   "id": "2950458d-6559-4d0f-9bce-aaf68c2b0e90",
   "metadata": {},
   "source": [
    "### 2.1 n=10 ajouts et m=20 entités"
   ]
  },
  {
   "cell_type": "code",
   "execution_count": null,
   "id": "6bd9252b-1637-49ab-8db8-be8d2756ef1b",
   "metadata": {},
   "outputs": [],
   "source": [
    "DIRECTORY=\"20_entities_10_samples\"\n",
    "liste=[\"{}/score_20_10_uniform_220920_clean_{}.csv\".format(DIRECTORY,i) for i in range(1,6)]\n",
    "meta_df=afficher_histogramme_et_enregistrer_stat_pour_liste(liste,meta_df,BIAIS_SN)\n",
    "liste=[\"{}/score_20_10_uniform_220920_mea_{}.csv\".format(DIRECTORY,i) for i in range(1,6)]\n",
    "meta_df=afficher_histogramme_et_enregistrer_stat_pour_liste(liste,meta_df,SOMME_ECART_ABSOLU,color=\"red\")"
   ]
  },
  {
   "cell_type": "markdown",
   "id": "c5cf6493-7cf4-4763-8c53-a6a8d2c73ca7",
   "metadata": {},
   "source": [
    "### 2.2 n=100 ajouts et m=20 entités"
   ]
  },
  {
   "cell_type": "code",
   "execution_count": null,
   "id": "706c0f5a-29c5-4305-a1d5-17f02d71c1df",
   "metadata": {},
   "outputs": [],
   "source": [
    "DIRECTORY=\"20_entities_100_samples\"\n",
    "liste=[\"{}/score_20_100_gaussian_220916_clean_{}.csv\".format(DIRECTORY,i) for i in range(1,2)]\n",
    "meta_df=afficher_histogramme_et_enregistrer_stat_pour_liste(liste,meta_df,BIAIS_SN)\n",
    "liste=[\"{}/score_20_100_gaussian_220916_mea_{}.csv\".format(DIRECTORY,i) for i in range(1,2)]\n",
    "meta_df=afficher_histogramme_et_enregistrer_stat_pour_liste(liste,meta_df,SOMME_ECART_ABSOLU,color=\"red\")"
   ]
  },
  {
   "cell_type": "markdown",
   "id": "9108486c-5ac4-485c-b578-acf73b6294ff",
   "metadata": {
    "tags": []
   },
   "source": [
    "## 3. Scenarios d'ajout cumulés et de deux loi gaussiennes discrètes centrées sur les bornes sur les scores sur un sous-échantillon n tiré aléatoirement de m entités"
   ]
  },
  {
   "cell_type": "code",
   "execution_count": null,
   "id": "54dd4f69-2b2e-4ced-9ddf-8b1dd53b2b7d",
   "metadata": {},
   "outputs": [],
   "source": [
    "x = np.arange(-10, 11)\n",
    "prob= np.array([0.13242928, 0.12533694,\n",
    " 0.1062586,  0.08069342, 0.05489084, 0.03344625, 0.01825486, 0.00892463,\n",
    " 0.00390822, 0.00153299,\n",
    "0.00053861, 0.00153299, 0.00390822, 0.00892463, 0.01825486, 0.03344625,\n",
    " 0.05489084, 0.08069342, 0.1062586,  0.12533694, 0.13242928])\n",
    "prob = prob / prob.sum()\n",
    "nums = np.random.choice(x, size = 10000, p = prob)\n",
    "plt.hist(nums, bins = len(x))"
   ]
  },
  {
   "cell_type": "markdown",
   "id": "b629120a-efbd-47b0-8a59-0dd2f6b1914e",
   "metadata": {},
   "source": [
    "### 3.1 n=10 ajouts et m=20 entités"
   ]
  },
  {
   "cell_type": "code",
   "execution_count": null,
   "id": "92799aad-4c21-4823-b293-5c46890c2fe0",
   "metadata": {},
   "outputs": [],
   "source": [
    "DIRECTORY=\"20_entities_10_samples\"\n",
    "liste=[\"{}/score_20_10_invgaussian_220920_clean_{}.csv\".format(DIRECTORY,i) for i in range(1,6)]\n",
    "meta_df=afficher_histogramme_et_enregistrer_stat_pour_liste(liste,meta_df,BIAIS_SN)\n",
    "liste=[\"{}/score_20_10_invgaussian_220920_mea_{}.csv\".format(DIRECTORY,i) for i in range(1,6)]\n",
    "meta_df=afficher_histogramme_et_enregistrer_stat_pour_liste(liste,meta_df,SOMME_ECART_ABSOLU,color=\"red\")"
   ]
  },
  {
   "cell_type": "markdown",
   "id": "0767a4f8-545e-46d0-aca0-f2c1e17d5a5c",
   "metadata": {},
   "source": [
    "### 3.2 n=100 ajouts et m=20 entités"
   ]
  },
  {
   "cell_type": "code",
   "execution_count": null,
   "id": "9b51dec8-50f4-4dbb-a710-91a52cbaba39",
   "metadata": {},
   "outputs": [],
   "source": [
    "DIRECTORY=\"20_entities_100_samples\"\n",
    "liste=[\"{}/score_20_100_invgaussian_220911_clean_{}.csv\".format(DIRECTORY,i) for i in range(1,2)]\n",
    "meta_df=afficher_histogramme_et_enregistrer_stat_pour_liste(liste,meta_df,BIAIS_SN)\n",
    "liste=[\"{}/score_20_100_invgaussian_220911_mea_{}.csv\".format(DIRECTORY,i) for i in range(1,2)]\n",
    "meta_df=afficher_histogramme_et_enregistrer_stat_pour_liste(liste,meta_df,SOMME_ECART_ABSOLU,color=\"red\")"
   ]
  },
  {
   "cell_type": "code",
   "execution_count": null,
   "id": "2d65e5be-c356-465a-be0c-20b66699c14d",
   "metadata": {},
   "outputs": [],
   "source": [
    "meta_df"
   ]
  },
  {
   "cell_type": "code",
   "execution_count": null,
   "id": "6b305542-7586-4e1c-b054-92d0ee9cff23",
   "metadata": {},
   "outputs": [],
   "source": [
    "def print_histo(name):\n",
    "    df=pd.read_csv(name,\n",
    "               header=None,names=[\"mea_score\",\"mea_score_sub\",\"mea_score_on\",\"mea_unc\",\"mea_unc_sub\",\"mea_unc_on\",\"nombre\"])\n",
    "    df_mea=df[[\"mea_score\",\"mea_score_sub\",\"mea_score_on\"]]\n",
    "    sns.histplot(data=df_mea.melt(),x=\"value\",hue=\"variable\",multiple=\"dodge\",kde=True).set(title=name)\n",
    "    plt.figure()\n",
    "    plt.clf()"
   ]
  },
  {
   "cell_type": "code",
   "execution_count": null,
   "id": "1b961ac4-8fba-4edd-b1f7-7e2c74f85c2a",
   "metadata": {},
   "outputs": [],
   "source": [
    "BASE_DIR=\"20_entities_10_samples\"\n",
    "\n",
    "for i in range(1,6):\n",
    "    print_histo(\"{}/score_20_10_uniform_220926_meaplus_{}.csv\".format(BASE_DIR,i))\n",
    "    \n",
    "for i in range(1,6):\n",
    "    print_histo(\"{}/score_20_10_gaussian_220926_meaplus_{}.csv\".format(BASE_DIR,i))\n",
    "    \n",
    "for i in range(1,6):\n",
    "    print_histo(\"{}/score_20_10_invgaussian_220925_meaplus_{}.csv\".format(BASE_DIR,i))"
   ]
  },
  {
   "cell_type": "code",
   "execution_count": null,
   "id": "e516c8fd-c767-4fef-9298-350166af4741",
   "metadata": {},
   "outputs": [],
   "source": [
    "df_mea=df[[\"mea_unc\",\"mea_unc_sub\",\"mea_unc_on\"]]\n",
    "sns.histplot(data=df_mea.melt(),x=\"value\",hue=\"variable\")"
   ]
  }
 ],
 "metadata": {
  "kernelspec": {
   "display_name": "Python 3 (ipykernel)",
   "language": "python",
   "name": "python3"
  },
  "language_info": {
   "codemirror_mode": {
    "name": "ipython",
    "version": 3
   },
   "file_extension": ".py",
   "mimetype": "text/x-python",
   "name": "python",
   "nbconvert_exporter": "python",
   "pygments_lexer": "ipython3",
   "version": "3.10.4"
  }
 },
 "nbformat": 4,
 "nbformat_minor": 5
}
